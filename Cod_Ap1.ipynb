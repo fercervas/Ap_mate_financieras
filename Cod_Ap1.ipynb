{
 "cells": [
  {
   "cell_type": "code",
   "execution_count": 1,
   "id": "0af16b98-d255-47d8-8632-1d695fdcbb14",
   "metadata": {
    "tags": []
   },
   "outputs": [],
   "source": [
    "import numpy as np\n",
    "import pandas as pd\n",
    "import matplotlib.pyplot as plt\n",
    "from sympy import symbols, diff\n",
    "import math"
   ]
  },
  {
   "cell_type": "markdown",
   "id": "9e84366f-af8c-4323-89b2-07bb0e41a44b",
   "metadata": {
    "tags": []
   },
   "source": [
    "### Cambio de tasas "
   ]
  },
  {
   "cell_type": "code",
   "execution_count": 2,
   "id": "9419a897-9d92-4125-81fa-d7ef61b61626",
   "metadata": {
    "tags": []
   },
   "outputs": [],
   "source": [
    "#m es la capitalización de la tasa origen\n",
    "#j es la capitalización de la tasa nueva\n",
    "def nominal(i,m,j):\n",
    "    e=((1+(i/m))**m)-1\n",
    "    c=m*np.log(1+(i/m))\n",
    "    n=((1+(i/m))**(m/j)-1)*j\n",
    "    print(f\"La tasa nominal capitalizable {m} al año inicial es de {i}\")\n",
    "    print(f\"La tasa equivalente efectiva es de {e}\" )\n",
    "    print(f\"La tasa equivalente continua es de {c}\" )\n",
    "    print(f\"La tasa equivalente nominal capitalizable {j} al año es de {n}\" )"
   ]
  },
  {
   "cell_type": "code",
   "execution_count": 3,
   "id": "80204b8b-7938-49a0-b08e-c91582072f22",
   "metadata": {
    "tags": []
   },
   "outputs": [],
   "source": [
    "#m es la capitalización\n",
    "def continua(i,m):\n",
    "    n=(np.exp(i/m)-1)*m\n",
    "    e=np.exp(i)-1\n",
    "    print(f\"La tasa continua inicial es de {i}\")\n",
    "    print(f\"La tasa equivalente nominal capitalizable {m} al año es de {n}\" )\n",
    "    print(f\"La tasa equivalente efectiva es de {e}\" )"
   ]
  },
  {
   "cell_type": "code",
   "execution_count": 4,
   "id": "e2cf874a-b9bf-4141-9f9c-a9d941ef242e",
   "metadata": {
    "tags": []
   },
   "outputs": [],
   "source": [
    "#m es la capitalización\n",
    "def efectiva(i,m):\n",
    "    n=((1+i)**(1/m)-1)*m\n",
    "    c=np.log(1+i)\n",
    "    print(f\"La tasa efectiva inicial es de {i}\")\n",
    "    print(f\"La tasa equivalente nominal es de {n}\" )\n",
    "    print(f\"La tasa equivalente continua es de {c}\" )"
   ]
  },
  {
   "cell_type": "markdown",
   "id": "70886089-a359-4926-91f2-41874b2003aa",
   "metadata": {
    "tags": []
   },
   "source": [
    "### Cambio de tasas una por una"
   ]
  },
  {
   "cell_type": "code",
   "execution_count": 5,
   "id": "bfc6559e-fd04-4b36-b52f-13ac5e4341e8",
   "metadata": {
    "tags": []
   },
   "outputs": [],
   "source": [
    "def efectiva_continua(i):\n",
    "    c=np.log(1+i)\n",
    "    return c"
   ]
  },
  {
   "cell_type": "code",
   "execution_count": 6,
   "id": "5092ccc3-fce2-4332-b216-49578fc6ef25",
   "metadata": {
    "tags": []
   },
   "outputs": [],
   "source": [
    "# m es la capitalización que queremos\n",
    "def efectiva_nominal(i,m):\n",
    "    n=((1+i)**(1/m)-1)*m\n",
    "    return n"
   ]
  },
  {
   "cell_type": "code",
   "execution_count": 7,
   "id": "fa09fdc9-b42f-453f-aa98-3ae7577d738e",
   "metadata": {
    "tags": []
   },
   "outputs": [
    {
     "data": {
      "text/plain": [
       "0.1540659228538015"
      ]
     },
     "execution_count": 7,
     "metadata": {},
     "output_type": "execute_result"
    }
   ],
   "source": [
    "efectiva_nominal(.16,2)"
   ]
  },
  {
   "cell_type": "code",
   "execution_count": 2,
   "id": "7607e08f-4100-43cc-9c7e-5e2686cf8c9c",
   "metadata": {
    "tags": []
   },
   "outputs": [],
   "source": [
    "# m es la capitalización de la tasa\n",
    "def nominal_efectiva(i,m):\n",
    "    e=((1+(i/m))**m)-1\n",
    "    return e"
   ]
  },
  {
   "cell_type": "code",
   "execution_count": 10,
   "id": "35ba78fe-697b-497b-8462-6beda6e2c8fa",
   "metadata": {},
   "outputs": [],
   "source": [
    "i1 = nominal_efectiva(.10,12)"
   ]
  },
  {
   "cell_type": "code",
   "execution_count": 9,
   "id": "ae538fc4-fedd-4de8-8902-5e54ba4ca575",
   "metadata": {
    "tags": []
   },
   "outputs": [],
   "source": [
    "# m es la capitalización de la tasa\n",
    "def nominal_continua(i,m):\n",
    "    c=m*np.log(1+(i/m))\n",
    "    return c"
   ]
  },
  {
   "cell_type": "code",
   "execution_count": 10,
   "id": "f57a553a-b92f-4132-bdb2-9f34c1d1db03",
   "metadata": {
    "tags": []
   },
   "outputs": [],
   "source": [
    "# m es la capitalización de la tasa que tenemos\n",
    "# j es la capitalización que queremos\n",
    "def nominal_nominal(i,m,j):\n",
    "    n=((1+(i/m))**(m/j)-1)*j\n",
    "    return n"
   ]
  },
  {
   "cell_type": "code",
   "execution_count": 11,
   "id": "dcd28982-2a03-4d28-b036-c9134dfabdc8",
   "metadata": {
    "tags": []
   },
   "outputs": [
    {
     "data": {
      "text/plain": [
       "0.07847785250747387"
      ]
     },
     "execution_count": 11,
     "metadata": {},
     "output_type": "execute_result"
    }
   ],
   "source": [
    "nominal_nominal(.08,1,360/182)"
   ]
  },
  {
   "cell_type": "code",
   "execution_count": 12,
   "id": "eeec6e08-1f6d-4b56-ba34-05eb7d356993",
   "metadata": {
    "tags": []
   },
   "outputs": [],
   "source": [
    "def continua_nominal(i,m):\n",
    "    n=(np.exp(i/m)-1)*m\n",
    "    return n"
   ]
  },
  {
   "cell_type": "code",
   "execution_count": 13,
   "id": "a4868466-89c9-4f69-a7e3-397cc7f72f2a",
   "metadata": {
    "tags": []
   },
   "outputs": [],
   "source": [
    "def continua_efectiva(i):\n",
    "    e=np.exp(i)-1\n",
    "    return e"
   ]
  },
  {
   "cell_type": "markdown",
   "id": "c06b19dd-30bc-4d1d-96e0-1c668de4ed5e",
   "metadata": {
    "jp-MarkdownHeadingCollapsed": true,
    "tags": []
   },
   "source": [
    "### VP y VF de tasas"
   ]
  },
  {
   "cell_type": "code",
   "execution_count": 14,
   "id": "3302a34a-0ea3-4364-a28a-4c10d027370a",
   "metadata": {
    "tags": []
   },
   "outputs": [],
   "source": [
    "#i tasa efectiva\n",
    "#n periodos\n",
    "# R Pago\n",
    "# Calculo del valor presente de una cantidad\n",
    "def vp_efectiva(i,n,R):\n",
    "    e=R*(1+i)**(-n)\n",
    "    return e"
   ]
  },
  {
   "cell_type": "code",
   "execution_count": 9,
   "id": "21be75a3-5099-4bcc-9759-974c06128ed4",
   "metadata": {
    "tags": []
   },
   "outputs": [],
   "source": [
    "#i tasa efectiva\n",
    "#n periodos\n",
    "# R Pago\n",
    "# Calculo del valor futuro de una cantidad\n",
    "def vf_efectiva(i,n,R):\n",
    "    e=R*(1+i)**(n)\n",
    "    return e"
   ]
  },
  {
   "cell_type": "code",
   "execution_count": 16,
   "id": "8cabdcdc-9aeb-4be7-be18-a6f5e158377c",
   "metadata": {
    "tags": []
   },
   "outputs": [
    {
     "data": {
      "text/plain": [
       "110.25"
      ]
     },
     "execution_count": 16,
     "metadata": {},
     "output_type": "execute_result"
    }
   ],
   "source": [
    "vf_efectiva(.05,2,100)"
   ]
  },
  {
   "cell_type": "code",
   "execution_count": 17,
   "id": "4f12c211-db1d-49fa-a298-5ba692c12845",
   "metadata": {
    "tags": []
   },
   "outputs": [],
   "source": [
    "#i tasa nominal\n",
    "#n periodos\n",
    "#m capitalización\n",
    "# R Pago\n",
    "# Calculo del valor futuro de una cantidad\n",
    "def vf_nominal(i,n,m,R):\n",
    "    e=R*(1+i/m)**(n*m)\n",
    "    return e"
   ]
  },
  {
   "cell_type": "code",
   "execution_count": 18,
   "id": "5ad858c4-4721-4104-b524-3d3e3c013a12",
   "metadata": {
    "tags": []
   },
   "outputs": [],
   "source": [
    "#i tasa nominal\n",
    "#n periodos\n",
    "#m capitalización\n",
    "# R Pago\n",
    "# Calculo del valor presente de una cantidad\n",
    "def vp_nominal(i,n,m,R):\n",
    "    e=R*(1+i/m)**(-n*m)\n",
    "    return e"
   ]
  },
  {
   "cell_type": "code",
   "execution_count": 19,
   "id": "75453477-59e4-4f65-b68a-dd321747454b",
   "metadata": {
    "tags": []
   },
   "outputs": [],
   "source": [
    "#i tasa continua\n",
    "#n periodos\n",
    "# R Pago\n",
    "# Calculo del valor presente de una cantidad\n",
    "def vp_continua(i,n,R):\n",
    "    e=R*np.exp(-n*i)\n",
    "    return e"
   ]
  },
  {
   "cell_type": "code",
   "execution_count": 20,
   "id": "2b071a6e-f487-434a-9ee5-9b8b68fd1e74",
   "metadata": {
    "tags": []
   },
   "outputs": [],
   "source": [
    "#i tasa continua\n",
    "#n periodos\n",
    "# R Pago\n",
    "# Calculo del valor futuro de una cantidad\n",
    "def vf_continua(i,n,R):\n",
    "    e=R*np.exp(n*i)\n",
    "    return e"
   ]
  },
  {
   "cell_type": "code",
   "execution_count": 21,
   "id": "d6604310-38a9-4e80-a6d3-0e3f91e58df1",
   "metadata": {
    "tags": []
   },
   "outputs": [
    {
     "data": {
      "text/plain": [
       "110.24996380064619"
      ]
     },
     "execution_count": 21,
     "metadata": {},
     "output_type": "execute_result"
    }
   ],
   "source": [
    "vf_continua(0.048790,2,100)"
   ]
  },
  {
   "cell_type": "code",
   "execution_count": 22,
   "id": "b31c2800-a7aa-4eb4-8604-0e0fb94bf8b7",
   "metadata": {
    "tags": []
   },
   "outputs": [
    {
     "data": {
      "text/plain": [
       "15027.379885722738"
      ]
     },
     "execution_count": 22,
     "metadata": {},
     "output_type": "execute_result"
    }
   ],
   "source": [
    "vf_continua(.07,2,100000)-100000"
   ]
  },
  {
   "cell_type": "markdown",
   "id": "b3d6a8a8-9a6a-4d1a-ab03-28a310bbdec8",
   "metadata": {
    "tags": []
   },
   "source": [
    "### VP y VF de anualidades vencidas"
   ]
  },
  {
   "cell_type": "code",
   "execution_count": 23,
   "id": "a3618c9f-a019-4398-a2df-e63c2a56b199",
   "metadata": {},
   "outputs": [],
   "source": [
    "# La tasa de interés debe ir respecto a cuando son los pagos, por ejemplo, si R se paga cada 6 meses se debe escoger una tasa semestral.\n",
    "# Si R es una vez cada año, la i es efectiva\n",
    "# Si R se paga cada tres meses, y tenemos i efectiva, hacemos la equivalencia de i capitalizable 4 veces al año"
   ]
  },
  {
   "cell_type": "code",
   "execution_count": 24,
   "id": "c437ae8e-d6ac-4c94-8ddb-6f943e44bebc",
   "metadata": {
    "tags": []
   },
   "outputs": [],
   "source": [
    "# m cada cuanto se paga la anualidad\n",
    "# R Renta\n",
    "# i tasa \n",
    "# Calculo del valor presente de una anualidad\n",
    "def valor_presente_v(i,R,m):\n",
    "    a=R*((1-((1+i)**(-m)))/i)\n",
    "    return a"
   ]
  },
  {
   "cell_type": "code",
   "execution_count": 25,
   "id": "3c611646-17ef-4784-b67f-cff7f8d512e0",
   "metadata": {
    "tags": []
   },
   "outputs": [],
   "source": [
    "# m cada cuanto se paga la anualidad\n",
    "# R Renta\n",
    "# i tasa \n",
    "# Calculo del valor futuro de una anualidad\n",
    "def valor_futuro_v(i,R,m):\n",
    "    s=R*(((1+i)**m)-1)/i\n",
    "    return s"
   ]
  },
  {
   "cell_type": "markdown",
   "id": "897a3a06-1078-4fa7-9fdd-b0cab314c4a8",
   "metadata": {},
   "source": [
    "### VP y VF de anualidades anticipadas"
   ]
  },
  {
   "cell_type": "code",
   "execution_count": 4,
   "id": "47b823fc-553d-4778-98fb-6832107579c9",
   "metadata": {},
   "outputs": [],
   "source": [
    "def valor_presente_a(i,R,m):\n",
    "    a=R*((1-((1+i)**(-m)))/i)*(1 + i)\n",
    "    return a"
   ]
  },
  {
   "cell_type": "code",
   "execution_count": 7,
   "id": "ee443eaf-7e85-497f-8b83-2ea50c19601f",
   "metadata": {},
   "outputs": [
    {
     "data": {
      "text/plain": [
       "1440306.188380997"
      ]
     },
     "execution_count": 7,
     "metadata": {},
     "output_type": "execute_result"
    }
   ],
   "source": [
    "s = 300000*(1.04)**40\n",
    "s"
   ]
  },
  {
   "cell_type": "code",
   "execution_count": 8,
   "id": "3f8c25e2-a32e-4228-83c8-26a5037e417a",
   "metadata": {},
   "outputs": [
    {
     "data": {
      "text/plain": [
       "22634348.95743636"
      ]
     },
     "execution_count": 8,
     "metadata": {},
     "output_type": "execute_result"
    }
   ],
   "source": [
    "valor_presente_a(0.0435,s,25)"
   ]
  },
  {
   "cell_type": "code",
   "execution_count": 14,
   "id": "1a01e6ca-5711-42ec-ad38-bc7d768978a9",
   "metadata": {},
   "outputs": [
    {
     "data": {
      "text/plain": [
       "145.849222502493"
      ]
     },
     "execution_count": 14,
     "metadata": {},
     "output_type": "execute_result"
    }
   ],
   "source": [
    "#i tasa efectiva\n",
    "#n periodos\n",
    "# R Pago\n",
    "# Calculo del valor futuro de una cantidad\n",
    "#vf_efectiva(i,n,R):\n",
    "x = 0.04415\n",
    "s25 = 300\n",
    "k = x*s25\n",
    "vf_efectiva(i1,k,39)"
   ]
  },
  {
   "cell_type": "code",
   "execution_count": 15,
   "id": "816119a2-ed68-44d0-a2cb-1c57aa7d7579",
   "metadata": {},
   "outputs": [
    {
     "data": {
      "text/plain": [
       "153.75091136894986"
      ]
     },
     "execution_count": 15,
     "metadata": {},
     "output_type": "execute_result"
    }
   ],
   "source": [
    "x = 0.04415\n",
    "s26 = 300*(1.04)\n",
    "k = x*s26\n",
    "vf_efectiva(i1,k,39)"
   ]
  },
  {
   "cell_type": "code",
   "execution_count": 5,
   "id": "d7371f94-925f-4b7f-a881-2498534473b1",
   "metadata": {},
   "outputs": [],
   "source": [
    "def valor_futuro_a(i,R,m):\n",
    "    s=(1 + i)*R*(((1+i)**m)-1)/i\n",
    "    return s"
   ]
  },
  {
   "cell_type": "markdown",
   "id": "563270ad-18d9-47cf-9848-31abdb990091",
   "metadata": {
    "tags": []
   },
   "source": [
    "### Calculo de periodos de las tasas\n"
   ]
  },
  {
   "cell_type": "code",
   "execution_count": 28,
   "id": "ed574ad9-1702-45a0-9474-4abfb5a267e1",
   "metadata": {
    "tags": []
   },
   "outputs": [],
   "source": [
    "#Donde i esta como tasa efectiva\n",
    "# vp valor presente\n",
    "# vf valor futuro\n",
    "# Calculo de n, n esta en períodos\n",
    "def tiempoe(vp,vf,i):\n",
    "    n=(np.log(vf/vp))/(np.log(1+i))\n",
    "    return n"
   ]
  },
  {
   "cell_type": "code",
   "execution_count": 29,
   "id": "6d17ded3-c21c-47cf-96d4-e123aa807974",
   "metadata": {
    "tags": []
   },
   "outputs": [],
   "source": [
    "#Donde i esta como tasa nominal\n",
    "# vp valor presente\n",
    "# vf valor futuro\n",
    "# m capitalización de la tasa i\n",
    "# Calculo de n, n esta en períodos\n",
    "def tiempon(vp,vf,i,m):\n",
    "    n=(np.log(vf/vp))/(m*np.log((1+i/m)))\n",
    "    return n"
   ]
  },
  {
   "cell_type": "code",
   "execution_count": 30,
   "id": "4ccef279-8e56-4195-875e-e534aa17f390",
   "metadata": {
    "tags": []
   },
   "outputs": [],
   "source": [
    "#Donde i esta como tasa continua\n",
    "# vp valor presente\n",
    "# vf valor futuro\n",
    "# Calculo de n, n esta en períodos\n",
    "def tiempoc(vp,vf,i):\n",
    "    n=(np.log(vf/vp))/i"
   ]
  },
  {
   "cell_type": "markdown",
   "id": "5e3bc5d2-56dc-49a0-8620-90063cb334a9",
   "metadata": {
    "tags": []
   },
   "source": [
    "### Calculo de tasas con VF\n"
   ]
  },
  {
   "cell_type": "code",
   "execution_count": 31,
   "id": "d28fba26-9e0d-4bf0-9e43-5714b4da02df",
   "metadata": {
    "tags": []
   },
   "outputs": [],
   "source": [
    "#v es el VF\n",
    "#n la maduración\n",
    "#R monto\n",
    "# Calculo de la tasa efectiva\n",
    "def i_efecvf(v,n,R):\n",
    "    i=((v/R)**(1/n))-1\n",
    "    return i\n"
   ]
  },
  {
   "cell_type": "code",
   "execution_count": 32,
   "id": "ad108946-a9f9-401d-b40b-3193cbac450e",
   "metadata": {
    "tags": []
   },
   "outputs": [],
   "source": [
    "#R monto\n",
    "#v es el VF\n",
    "#n la maduración\n",
    "#m la capitalización de la tasa\n",
    "# Calculo de la tasa nominal, capitalizable m veces al año\n",
    "def i_nominalvf(v,n,m,R):\n",
    "    i=(((v/R)**(1/(n*m)))-1)*m\n",
    "    return i\n",
    "    "
   ]
  },
  {
   "cell_type": "code",
   "execution_count": 33,
   "id": "d393e0f8-0880-45be-b257-e7b3d2daa182",
   "metadata": {
    "tags": []
   },
   "outputs": [],
   "source": [
    "#v es el VF\n",
    "#n la maduración\n",
    "#R monto\n",
    "# Calculo de la tasa continua\n",
    "def i_contvf(v,n,R):\n",
    "    i=(np.log(v/R))/n\n",
    "    return i\n"
   ]
  },
  {
   "cell_type": "code",
   "execution_count": 34,
   "id": "616541a2-ec5a-45a6-b408-0f2f90954aaa",
   "metadata": {
    "tags": []
   },
   "outputs": [
    {
     "data": {
      "text/plain": [
       "0.07000000019826298"
      ]
     },
     "execution_count": 34,
     "metadata": {},
     "output_type": "execute_result"
    }
   ],
   "source": [
    "i_contvf(141.906755,5,100)"
   ]
  },
  {
   "cell_type": "markdown",
   "id": "71509aab-5184-49f5-866e-cb2be4969c6e",
   "metadata": {
    "tags": []
   },
   "source": [
    "### Calculo de tasas con VP"
   ]
  },
  {
   "cell_type": "code",
   "execution_count": 35,
   "id": "c54b0f3d-0a6c-4f60-be09-5bb633ad0ad2",
   "metadata": {
    "tags": []
   },
   "outputs": [],
   "source": [
    "#v es el VP\n",
    "#n la maduración\n",
    "#R monto\n",
    "# Calculo de la tasa efectiva\n",
    "def i_efecvp(v,n,R):\n",
    "    i=((v/R)**(-1/n))-1\n",
    "    return i\n"
   ]
  },
  {
   "cell_type": "code",
   "execution_count": 36,
   "id": "229f1826-2fc3-4369-ac43-eb07347caed9",
   "metadata": {
    "tags": []
   },
   "outputs": [],
   "source": [
    "#R monto\n",
    "#v es el VP\n",
    "#n la maduración\n",
    "#m la capitalización de la tasa\n",
    "# Calculo de la tasa nominal, capitalizable m veces al año\n",
    "def i_nominalvp(v,n,m,R):\n",
    "    i=(((v/R)**(-1/(n*m)))-1)*m\n",
    "    return i\n",
    "    "
   ]
  },
  {
   "cell_type": "code",
   "execution_count": 37,
   "id": "1fcba4f4-b5d3-4b32-930a-34ffb261215d",
   "metadata": {
    "tags": []
   },
   "outputs": [],
   "source": [
    "#v es el VP\n",
    "#n la maduración\n",
    "#R monto\n",
    "# Calculo de la tasa continua\n",
    "def i_contvf(v,n,R):\n",
    "    i=-(np.log(v/R))/n\n",
    "    return i\n"
   ]
  },
  {
   "cell_type": "markdown",
   "id": "837d6e8b-e19f-4833-bc3c-e504b90632ce",
   "metadata": {
    "jp-MarkdownHeadingCollapsed": true,
    "tags": []
   },
   "source": [
    "### BONOS"
   ]
  },
  {
   "cell_type": "code",
   "execution_count": 38,
   "id": "9a6063a0-5491-4653-8473-b3a11b783361",
   "metadata": {
    "tags": []
   },
   "outputs": [],
   "source": [
    "# SOLO ES PARA EJERCICIOS DE CONVENCIÓN 360\n",
    "#N nominal\n",
    "#c tasa cupón\n",
    "#m capitalización tasa cupón\n",
    "#n madurez\n",
    "#r YTM (Debe de estar convertido a la misma capitalización que c, ejemplo: efectiva_nominal(.08,360/28))\n",
    "#l capitalización del YTM\n",
    "#a la convención (360)\n",
    "\n",
    "\n",
    "def precio_bono_act(N,c,m,n,r,l,a):\n",
    "    YTM=nominal_nominal(r,l,a/m)\n",
    "    P=N*(c*m/a)*((1-(1+YTM*m/a)**(-n/m)))/(YTM*m/a)+N*(1+YTM*m/a)**(-n/m)\n",
    "    return P"
   ]
  },
  {
   "cell_type": "code",
   "execution_count": 39,
   "id": "717ba21d-9f3e-4f18-97ef-efc6057fc39c",
   "metadata": {
    "tags": []
   },
   "outputs": [
    {
     "data": {
      "text/plain": [
       "93.8474114000718"
      ]
     },
     "execution_count": 39,
     "metadata": {},
     "output_type": "execute_result"
    }
   ],
   "source": [
    "precio_bono_act(100,.055,182,1077,.08,1,360)"
   ]
  },
  {
   "cell_type": "code",
   "execution_count": 40,
   "id": "d2c982a3-9969-48e7-ad82-efc13c8f4fc4",
   "metadata": {
    "tags": []
   },
   "outputs": [],
   "source": [
    "#Precio cupón cero\n",
    "#N nominal\n",
    "#n madurez\n",
    "#r YTM anual\n",
    "def precio_cupcero(N,n,r):\n",
    "    P=N/((1+(r))**(n))\n",
    "    return P"
   ]
  },
  {
   "cell_type": "code",
   "execution_count": 41,
   "id": "879e0aed-f571-4fa3-beff-f24218da72db",
   "metadata": {
    "tags": []
   },
   "outputs": [
    {
     "data": {
      "text/plain": [
       "9.915692857705169"
      ]
     },
     "execution_count": 41,
     "metadata": {},
     "output_type": "execute_result"
    }
   ],
   "source": [
    "precio_cupcero(10,28/360,0.115)"
   ]
  },
  {
   "cell_type": "code",
   "execution_count": 42,
   "id": "b4fef832-ec8d-4bd2-9b59-b069dcc3e76e",
   "metadata": {
    "tags": []
   },
   "outputs": [],
   "source": [
    "#YTM dee un bono cupón cero anual\n",
    "#P precio\n",
    "#N nominal \n",
    "#n madurez\n",
    "\n",
    "def r_cupcero(P,N,n):\n",
    "    r=((P/N)**(-1/n))-1\n",
    "    return r"
   ]
  },
  {
   "cell_type": "code",
   "execution_count": 43,
   "id": "8100d7e3-0356-48df-bcdf-9b1c6217dcec",
   "metadata": {
    "tags": []
   },
   "outputs": [],
   "source": [
    "#N nominal\n",
    "#c tasa cupón\n",
    "#l capitalización tasa cupón\n",
    "#n madurez\n",
    "#r YTM\n",
    "#m capitalización YTM\n",
    "\n",
    "\n",
    "#P>N. c>r  Sobre par\n",
    "#P<N. c<r  Bajo par\n",
    "#P=N. c=r  A la par\n",
    "\n",
    "def precio_bono(N,c,l,n,r,m):\n",
    "    YTM=round(nominal_nominal(r,m,l),6)\n",
    "    P=N*(c/l)*((1-(1+YTM/l)**(-n*l)))/(YTM/l)+N*(1+YTM/l)**(-n*l)\n",
    "    return P\n"
   ]
  },
  {
   "cell_type": "code",
   "execution_count": 44,
   "id": "1bd98d3b-c40c-4d98-95e6-f9e324b77427",
   "metadata": {},
   "outputs": [
    {
     "data": {
      "text/plain": [
       "0.09"
      ]
     },
     "execution_count": 44,
     "metadata": {},
     "output_type": "execute_result"
    }
   ],
   "source": [
    "round(nominal_nominal(0.09,1,1),4)"
   ]
  },
  {
   "cell_type": "code",
   "execution_count": 45,
   "id": "14d24faa-62b9-41f1-bce7-5824fa4261a6",
   "metadata": {
    "tags": []
   },
   "outputs": [
    {
     "data": {
      "text/plain": [
       "89.70775447814583"
      ]
     },
     "execution_count": 45,
     "metadata": {},
     "output_type": "execute_result"
    }
   ],
   "source": [
    "precio_bono(100,0.090,1,8,0.11,1)"
   ]
  },
  {
   "cell_type": "markdown",
   "id": "8d9d694d-dabc-45a9-965b-a07b24a3c13a",
   "metadata": {
    "tags": []
   },
   "source": [
    "### Bonos en fecha cupón\n"
   ]
  },
  {
   "cell_type": "code",
   "execution_count": 46,
   "id": "fa12fe92-2ffa-4acf-9cd3-3ac15b9272b4",
   "metadata": {
    "tags": []
   },
   "outputs": [],
   "source": [
    "#N nominal\n",
    "#c tasa cupón\n",
    "#m capitalización tasa cupón\n",
    "#n madurez\n",
    "#r YTM\n",
    "#l capitalización YTM\n",
    "def bonos_fec(N,c,m,n,r,l):\n",
    "    \n",
    "    vec_ft=[N*c/m]*(n*m-1)+[N*c/m+N]\n",
    "    bono=[]\n",
    "    t=np.arange(1,n*m+1)\n",
    "    ytm=nominal_nominal(r,l,m)\n",
    "    for i in range(n*m):\n",
    "        bono.append(vec_ft[i]/(ytm/m)*(1-(1+ytm/m)**(-(m*n-t[i])))+(N*(1+ytm/m)**(-(m*n-t[i]))))\n",
    "\n",
    "    return bono\n",
    "    "
   ]
  },
  {
   "cell_type": "markdown",
   "id": "750f792f-ef06-4867-af84-0fd95a70a37b",
   "metadata": {
    "tags": []
   },
   "source": [
    "### CETES"
   ]
  },
  {
   "cell_type": "code",
   "execution_count": 53,
   "id": "c73b745f-35ca-422e-9d2c-8a992d80a4b0",
   "metadata": {
    "tags": []
   },
   "outputs": [],
   "source": [
    "# Tiempo de un CETE\n",
    "#P precio\n",
    "#N nominal\n",
    "#r YTM anual\n",
    "\n",
    "def t_cete(P,N,r):\n",
    "    t=((N/P)-1)*(360/r)\n",
    "    return t"
   ]
  },
  {
   "cell_type": "code",
   "execution_count": 54,
   "id": "f7011f44-80bb-455c-b355-d0fb0e7a8df8",
   "metadata": {
    "tags": []
   },
   "outputs": [
    {
     "data": {
      "text/plain": [
       "182.04323149378095"
      ]
     },
     "execution_count": 54,
     "metadata": {},
     "output_type": "execute_result"
    }
   ],
   "source": [
    "t_cete(9.464,10,.112)"
   ]
  },
  {
   "cell_type": "code",
   "execution_count": 55,
   "id": "eb40b62d-f308-4e5c-8458-ce38b6148ed9",
   "metadata": {
    "tags": []
   },
   "outputs": [],
   "source": [
    "#Precio de un cete\n",
    "#N nominal\n",
    "#n madurez\n",
    "#r YTM anual\n",
    "def precio_cete(N,n,r):\n",
    "    P=N/(1+(r*n/360))\n",
    "    return P"
   ]
  },
  {
   "cell_type": "code",
   "execution_count": 56,
   "id": "dbc6afb9-88da-434f-b059-e56078271b31",
   "metadata": {
    "tags": []
   },
   "outputs": [
    {
     "data": {
      "text/plain": [
       "9.464"
      ]
     },
     "execution_count": 56,
     "metadata": {},
     "output_type": "execute_result"
    }
   ],
   "source": [
    "precio_cete(10,182.04323149378095,.112)"
   ]
  },
  {
   "cell_type": "code",
   "execution_count": 57,
   "id": "24dbdf0c-831b-43f8-973d-2e551222b042",
   "metadata": {
    "tags": []
   },
   "outputs": [
    {
     "data": {
      "text/plain": [
       "0.08528855115219969"
      ]
     },
     "execution_count": 57,
     "metadata": {},
     "output_type": "execute_result"
    }
   ],
   "source": [
    "10-9.9147114488478\n"
   ]
  },
  {
   "cell_type": "code",
   "execution_count": 58,
   "id": "dd3d6d73-c131-4975-8e39-5d106009c773",
   "metadata": {
    "tags": []
   },
   "outputs": [],
   "source": [
    "#Tasa de descuento de un CETE\n",
    "#r YTM\n",
    "#n madurez (t/360)\n",
    "\n",
    "def descete(r,n):\n",
    "    b=r/(1+r*n)\n",
    "    return b"
   ]
  },
  {
   "cell_type": "code",
   "execution_count": 59,
   "id": "b34da2ac-6159-42aa-a9a4-0fb4fad2333f",
   "metadata": {
    "tags": []
   },
   "outputs": [],
   "source": [
    "#Precio de un CETE con la tasa de descuento\n",
    "#N nominal\n",
    "#b tasa descuento\n",
    "#n madurez\n",
    "\n",
    "def precio_cete_des(N,b,n):\n",
    "    P=N*(1-b*n)\n",
    "    return P"
   ]
  },
  {
   "cell_type": "code",
   "execution_count": 60,
   "id": "a3481732-459b-45c3-957d-441ed37a33e6",
   "metadata": {
    "tags": []
   },
   "outputs": [],
   "source": [
    "#YTM de un CETE\n",
    "#P precio\n",
    "#N nominal (10)\n",
    "#n madurez\n",
    "\n",
    "def r_cete(P,N,n):\n",
    "    r=((N/P)-1)/(n/360)\n",
    "    return r"
   ]
  },
  {
   "cell_type": "code",
   "execution_count": 61,
   "id": "a685fc8b-6ed4-4ac1-851e-f9d85e8f3629",
   "metadata": {
    "tags": []
   },
   "outputs": [
    {
     "data": {
      "text/plain": [
       "0.03002710601415564"
      ]
     },
     "execution_count": 61,
     "metadata": {},
     "output_type": "execute_result"
    }
   ],
   "source": [
    "r_cete(9.9767,10,28)"
   ]
  },
  {
   "cell_type": "markdown",
   "id": "4b7849d5-d0f0-41df-8c60-918efe5e957d",
   "metadata": {
    "tags": []
   },
   "source": [
    "### DM y Convexidad\n"
   ]
  },
  {
   "cell_type": "code",
   "execution_count": 62,
   "id": "e2d63704-5efa-495c-9258-8511ce7fbd3c",
   "metadata": {
    "tags": []
   },
   "outputs": [],
   "source": [
    "#N nominal\n",
    "#c tasa cupón\n",
    "#m capitalización YTM\n",
    "#n madurez\n",
    "#r YTM\n",
    "#l capitalización tasa cupón\n",
    "# h cambios en los pbs (es un vector)\n",
    "\n",
    "def DM_Conv(N,c,m,n,r,l,h, bono_num=7):\n",
    "    \n",
    "    ytm=nominal_nominal(r,m,l)\n",
    "    P=precio_bono(N,c,l,n,r,m)\n",
    "    DM=-(N*c*n/(ytm*(1 + ytm/l)*(1 + ytm/l)**(l*n)) - N*c*(1 - 1/(1 + ytm/l)**(l*n))/ytm**2 - N*n/((1 + ytm/l)*(1 + ytm/l)**(l*n)))/P\n",
    "    Conv = -(N*c*n**2/(ytm*(1 + ytm/l)**2*(1 + ytm/l)**(l*n)) + 2*N*c*n/(ytm**2*(1 + ytm/l)*(1 + ytm/l)**(l*n)) - 2*N*c*(1 - 1/(1 + ytm/l)**(l*n))/ytm**3 + N*c*n/(l*ytm*(1 + ytm/l)**2*(1 + ytm/l)**(l*n)) - N*n**2/((1 + ytm/l)**2*(1 + ytm/l)**(l*n)) - N*n/(l*(1 + ytm/l)**2*(1 + ytm/l)**(l*n)))/P\n",
    "    print(f\"El precio del bono {bono_num} es de {P}\")\n",
    "    print(f\"La DM del bono {bono_num} es de {DM}\")\n",
    "    print(f\"La convexidad del bono {bono_num} es de {Conv}\")\n",
    "    \n",
    "    for i in h:\n",
    "        \n",
    "        Pesos=-(i/10000)*P*DM\n",
    "        porcen=-(i/10000)*DM\n",
    "        npre=P*(1-i/10000*DM)\n",
    "    \n",
    "        cpesos=-P*(i/10000)*DM+((i/10000)**2/2)*P*Conv\n",
    "        nupre=P-(i/10000)*DM*P+((i/10000)**2)/2*P*Conv\n",
    "        campor=-(i/10000)*DM+((i/10000)**2)/2*Conv\n",
    "\n",
    "        # Nuevo precio calculado con DM y Convexidad menos precio original\n",
    "        Q=nupre-P\n",
    "        \n",
    "\n",
    "        print()\n",
    "        print(\"Utilizando solo DM\")\n",
    "        print(f\"El cambio por {i} pb en pesos del bono {bono_num} es ${Pesos}\")\n",
    "        print(f\"El cambio porcentual por {i} pb del bono {bono_num} es {porcen:.5%}\")\n",
    "        print(f\"El nuevo precio aproximado por {i} pb del bono {bono_num} es ${npre}\")\n",
    "    \n",
    "        print()\n",
    "        print(\"Utilizando la DM y la convexidad\")\n",
    "        print(f\"El cambio por {i} pb en pesos del bono {bono_num} es ${cpesos}\")\n",
    "        print(f\"El cambio porcentual por {i} pb del bono {bono_num} es {campor:.5%}\")\n",
    "        print(f\"El nuevo precio aproximado por {i} pb del bono {bono_num} es ${nupre}\")\n",
    "        print(f\"La diferencia de precios es de {Q}\")\n",
    "        "
   ]
  },
  {
   "cell_type": "code",
   "execution_count": 63,
   "id": "c6d4cbfb-eb54-4236-8825-9987e0b283fd",
   "metadata": {
    "tags": []
   },
   "outputs": [
    {
     "name": "stdout",
     "output_type": "stream",
     "text": [
      "El precio del bono 1 es de 105.24213685674636\n",
      "La DM del bono 1 es de 2.5715908631243596\n",
      "La convexidad del bono 1 es de 8.312289993451753\n",
      "\n",
      "Utilizando solo DM\n",
      "El cambio por 10 pb en pesos del bono 1 es $-0.27063971755649235\n",
      "El cambio porcentual por 10 pb del bono 1 es -0.25716%\n",
      "El nuevo precio aproximado por 10 pb del bono 1 es $104.97149713918986\n",
      "\n",
      "Utilizando la DM y la convexidad\n",
      "El cambio por 10 pb en pesos del bono 1 es $-0.27020231597595046\n",
      "El cambio porcentual por 10 pb del bono 1 es -0.25674%\n",
      "El nuevo precio aproximado por 10 pb del bono 1 es $104.9719345407704\n",
      "La diferencia de precios es de -0.27020231597595057\n"
     ]
    }
   ],
   "source": [
    "#N nominal\n",
    "#c tasa cupón\n",
    "#m capitalización YTM\n",
    "#n madurez\n",
    "#r YTM\n",
    "#l capitalización tasa cupón\n",
    "# h cambios en los pbs (es un vector)\n",
    "\n",
    "# Los puntos base siempre se ponen como vector\n",
    "\n",
    "DM_Conv(100, 0.1, 2, 3, 0.08, 2,[10], 1)"
   ]
  },
  {
   "cell_type": "code",
   "execution_count": 64,
   "id": "dc9fd408-1143-4496-8806-96e0bd10495e",
   "metadata": {
    "tags": []
   },
   "outputs": [
    {
     "name": "stdout",
     "output_type": "stream",
     "text": [
      "La primera derivada de P con respecto a ytm es:\n",
      "-N*c*n**2/(ytm*(1 + ytm/l)**2*(1 + ytm/l)**(l*n)) - 2*N*c*n/(ytm**2*(1 + ytm/l)*(1 + ytm/l)**(l*n)) + 2*N*c*(1 - 1/(1 + ytm/l)**(l*n))/ytm**3 - N*c*n/(l*ytm*(1 + ytm/l)**2*(1 + ytm/l)**(l*n)) + N*n**2/((1 + ytm/l)**2*(1 + ytm/l)**(l*n)) + N*n/(l*(1 + ytm/l)**2*(1 + ytm/l)**(l*n))\n"
     ]
    }
   ],
   "source": [
    "# Define los símbolos\n",
    "c, l, N, ytm, n = symbols('c l N ytm n')\n",
    "\n",
    "# Define la función P\n",
    "DM=(N*c*n/(ytm*(1 + ytm/l)*(1 + ytm/l)**(l*n)) - N*c*(1 - 1/(1 + ytm/l)**(l*n))/ytm**2 - N*n/((1 + ytm/l)*(1 + ytm/l)**(l*n)))\n",
    "# Calcula la primera derivada de P con respecto a ytm\n",
    "derivada = diff(DM, ytm)\n",
    "\n",
    "# Imprime la primera derivada\n",
    "print(\"La primera derivada de P con respecto a ytm es:\")\n",
    "print(derivada)"
   ]
  },
  {
   "cell_type": "markdown",
   "id": "112b2189-32d3-49a1-855f-bd874baeea84",
   "metadata": {
    "tags": []
   },
   "source": [
    "### DM y Convexidad conjunta de bonos\n"
   ]
  },
  {
   "cell_type": "code",
   "execution_count": 65,
   "id": "60243780-3955-4ba2-8cb8-3665ac803b3a",
   "metadata": {
    "tags": []
   },
   "outputs": [
    {
     "name": "stdout",
     "output_type": "stream",
     "text": [
      "El precio de tu portafolio conjunto es de: $ 5852.757060120097\n",
      "La DM de tu portafolio conjunto es de: $ 4.540054894459877\n",
      "La Convexidad de tu portafolio conjunto es de: $ 29.088523841702504\n"
     ]
    }
   ],
   "source": [
    "# Método de Hedging\n",
    "# Precio del Portafolio para a lo más 5 instrumentos\n",
    "# Ai (instrumento i) = [Precio, veces_Ai, DM, Convexidad]\n",
    "\n",
    "A1 = [97.45258330901021,12,3.527925411204608,15.904227609790128] #Bono 5\n",
    "A2 = [95.24754254726872,15,4.825008385519628,32.091542950032576] #Bono 6\n",
    "A3 = [93.98047473498784,16,6.140864733495677,51.212171762369536] #Bono 7\n",
    "A4 = [97.27362924684098,18,3.6087649779109126,16.444133616524155] #Bono 8\n",
    "A5 = [0,0,0,0]\n",
    "\n",
    "Precio_Portafolio = (A1[0]*A1[1])+(A2[0]*A2[1])+(A3[0]*A3[1])+(A4[0]*A4[1])+(A5[0]*A5[1])\n",
    "print(\"El precio de tu portafolio conjunto es de: $\",Precio_Portafolio)\n",
    "\n",
    "DM_Portafolio = (((A1[0]*A1[1])/Precio_Portafolio)*A1[2])+(((A2[0]*A2[1])/Precio_Portafolio)*A2[2])+(((A3[0]*A3[1])/Precio_Portafolio)*A3[2])+(((A4[0]*A4[1])/Precio_Portafolio)*A4[2])+(((A5[0]*A5[1])/Precio_Portafolio)*A5[2])\n",
    "print(\"La DM de tu portafolio conjunto es de: $\",DM_Portafolio)\n",
    "\n",
    "Convex_Portafolio = (((A1[0]*A1[1])/Precio_Portafolio)*A1[3])+(((A2[0]*A2[1])/Precio_Portafolio)*A2[3])+(((A3[0]*A3[1])/Precio_Portafolio)*A3[3])+(((A4[0]*A4[1])/Precio_Portafolio)*A4[3])+(((A5[0]*A5[1])/Precio_Portafolio)*A5[3])\n",
    "print(\"La Convexidad de tu portafolio conjunto es de: $\",Convex_Portafolio)"
   ]
  },
  {
   "cell_type": "code",
   "execution_count": 172,
   "id": "79ab8473-4159-465b-9954-696b4f823ec1",
   "metadata": {},
   "outputs": [
    {
     "name": "stdout",
     "output_type": "stream",
     "text": [
      "¿Cuántos bonos pondrás en el portafolio?\n"
     ]
    },
    {
     "ename": "KeyboardInterrupt",
     "evalue": "Interrupted by user",
     "output_type": "error",
     "traceback": [
      "\u001b[0;31m---------------------------------------------------------------------------\u001b[0m",
      "\u001b[0;31mKeyboardInterrupt\u001b[0m                         Traceback (most recent call last)",
      "Cell \u001b[0;32mIn[172], line 4\u001b[0m\n\u001b[1;32m      1\u001b[0m \u001b[38;5;66;03m#Duración modificada y convexidad conjunta de los bonos\u001b[39;00m\n\u001b[1;32m      3\u001b[0m \u001b[38;5;28mprint\u001b[39m(\u001b[38;5;124m\"\u001b[39m\u001b[38;5;124m¿Cuántos bonos pondrás en el portafolio?\u001b[39m\u001b[38;5;124m\"\u001b[39m)\n\u001b[0;32m----> 4\u001b[0m a\u001b[38;5;241m=\u001b[39m\u001b[38;5;28mfloat\u001b[39m(\u001b[38;5;28minput\u001b[39m())\n\u001b[1;32m      6\u001b[0m \u001b[38;5;28;01mif\u001b[39;00m a\u001b[38;5;241m==\u001b[39m\u001b[38;5;241m2\u001b[39m:\n\u001b[1;32m      7\u001b[0m     \u001b[38;5;28mprint\u001b[39m(\u001b[38;5;124m\"\u001b[39m\u001b[38;5;124mDame el número del primer bono a utilizar\u001b[39m\u001b[38;5;124m\"\u001b[39m)\n",
      "File \u001b[0;32m/Applications/anaconda3/lib/python3.12/site-packages/ipykernel/kernelbase.py:1262\u001b[0m, in \u001b[0;36mKernel.raw_input\u001b[0;34m(self, prompt)\u001b[0m\n\u001b[1;32m   1260\u001b[0m     msg \u001b[38;5;241m=\u001b[39m \u001b[38;5;124m\"\u001b[39m\u001b[38;5;124mraw_input was called, but this frontend does not support input requests.\u001b[39m\u001b[38;5;124m\"\u001b[39m\n\u001b[1;32m   1261\u001b[0m     \u001b[38;5;28;01mraise\u001b[39;00m StdinNotImplementedError(msg)\n\u001b[0;32m-> 1262\u001b[0m \u001b[38;5;28;01mreturn\u001b[39;00m \u001b[38;5;28mself\u001b[39m\u001b[38;5;241m.\u001b[39m_input_request(\n\u001b[1;32m   1263\u001b[0m     \u001b[38;5;28mstr\u001b[39m(prompt),\n\u001b[1;32m   1264\u001b[0m     \u001b[38;5;28mself\u001b[39m\u001b[38;5;241m.\u001b[39m_parent_ident[\u001b[38;5;124m\"\u001b[39m\u001b[38;5;124mshell\u001b[39m\u001b[38;5;124m\"\u001b[39m],\n\u001b[1;32m   1265\u001b[0m     \u001b[38;5;28mself\u001b[39m\u001b[38;5;241m.\u001b[39mget_parent(\u001b[38;5;124m\"\u001b[39m\u001b[38;5;124mshell\u001b[39m\u001b[38;5;124m\"\u001b[39m),\n\u001b[1;32m   1266\u001b[0m     password\u001b[38;5;241m=\u001b[39m\u001b[38;5;28;01mFalse\u001b[39;00m,\n\u001b[1;32m   1267\u001b[0m )\n",
      "File \u001b[0;32m/Applications/anaconda3/lib/python3.12/site-packages/ipykernel/kernelbase.py:1305\u001b[0m, in \u001b[0;36mKernel._input_request\u001b[0;34m(self, prompt, ident, parent, password)\u001b[0m\n\u001b[1;32m   1302\u001b[0m \u001b[38;5;28;01mexcept\u001b[39;00m \u001b[38;5;167;01mKeyboardInterrupt\u001b[39;00m:\n\u001b[1;32m   1303\u001b[0m     \u001b[38;5;66;03m# re-raise KeyboardInterrupt, to truncate traceback\u001b[39;00m\n\u001b[1;32m   1304\u001b[0m     msg \u001b[38;5;241m=\u001b[39m \u001b[38;5;124m\"\u001b[39m\u001b[38;5;124mInterrupted by user\u001b[39m\u001b[38;5;124m\"\u001b[39m\n\u001b[0;32m-> 1305\u001b[0m     \u001b[38;5;28;01mraise\u001b[39;00m \u001b[38;5;167;01mKeyboardInterrupt\u001b[39;00m(msg) \u001b[38;5;28;01mfrom\u001b[39;00m \u001b[38;5;28;01mNone\u001b[39;00m\n\u001b[1;32m   1306\u001b[0m \u001b[38;5;28;01mexcept\u001b[39;00m \u001b[38;5;167;01mException\u001b[39;00m:\n\u001b[1;32m   1307\u001b[0m     \u001b[38;5;28mself\u001b[39m\u001b[38;5;241m.\u001b[39mlog\u001b[38;5;241m.\u001b[39mwarning(\u001b[38;5;124m\"\u001b[39m\u001b[38;5;124mInvalid Message:\u001b[39m\u001b[38;5;124m\"\u001b[39m, exc_info\u001b[38;5;241m=\u001b[39m\u001b[38;5;28;01mTrue\u001b[39;00m)\n",
      "\u001b[0;31mKeyboardInterrupt\u001b[0m: Interrupted by user"
     ]
    }
   ],
   "source": [
    "#Duración modificada y convexidad conjunta de los bonos\n",
    "\n",
    "print(\"¿Cuántos bonos pondrás en el portafolio?\")\n",
    "a=float(input())\n",
    "\n",
    "if a==2:\n",
    "    print(\"Dame el número del primer bono a utilizar\")\n",
    "    n1=float(input())\n",
    "    print(\"Dame el precio del primer bono\")\n",
    "    P1=float(input())\n",
    "    print(\"Dame la DM del primer bono\")\n",
    "    DM1=float(input())\n",
    "    print(\"Dame la convexidad del primer bono\")\n",
    "    Conv1=float(input())\n",
    "\n",
    "    print(\"Dame el número del segundo bono a utilizar\")\n",
    "    n2=float(input())\n",
    "    print(\"Dame el precio del segundo bono\")\n",
    "    P2=float(input())\n",
    "    print(\"Dame la DM del segundo bono\")\n",
    "    DM2=float(input())\n",
    "    print(\"Dame la convexidad del segundo bono\")\n",
    "    Conv2=float(input())\n",
    "    P=n1*P1+n2*P2\n",
    "    c1=n1*P1/P\n",
    "    c2=n2*P2/P\n",
    "    DMP=c1*DM1+c2*DM2\n",
    "    ConvP=c1*Conv1+c2*Conv2\n",
    "    print()\n",
    "    print(f\"El precio del portafolio es {P}\")\n",
    "    print(f\"La DM conjunta de los bonos es de {DMP}\")\n",
    "    print(f\"La convexidad conjunta de los bonos es de {ConvP}\")\n",
    "    \n",
    "elif a==3:\n",
    "\n",
    "    print(\"Dame el número del primer bono a utilizar\")\n",
    "    n1=float(input())\n",
    "    print(\"Dame el precio del primer bono\")\n",
    "    P1=float(input())\n",
    "    print(\"Dame la DM del primer bono\")\n",
    "    DM1=float(input())\n",
    "    print(\"Dame la convexidad del primer bono\")\n",
    "    Conv1=float(input())\n",
    "\n",
    "    print(\"Dame el número del segundo bono a utilizar\")\n",
    "    n2=float(input())\n",
    "    print(\"Dame el precio del segundo bono\")\n",
    "    P2=float(input())\n",
    "    print(\"Dame la DM del segundo bono\")\n",
    "    DM2=float(input())\n",
    "    print(\"Dame la convexidad del segundo bono\")\n",
    "    Conv2=float(input())\n",
    "    \n",
    "    print(\"Dame el número del tercer bono a utilizar\")\n",
    "    n3=float(input())\n",
    "    print(\"Dame el precio del tercer bono\")\n",
    "    P3=float(input())\n",
    "    print(\"Dame la DM del tercer bono\")\n",
    "    DM3=float(input())\n",
    "    print(\"Dame la convexidad del tercer bono\")\n",
    "    Conv3=float(input())\n",
    "\n",
    "    \n",
    "    P=n1*P1+n2*P2+n3*P3\n",
    "    c1=n1*P1/P\n",
    "    c2=n2*P2/P\n",
    "    c3=n3*P3/P\n",
    "    DMP=c1*DM1+c2*DM2+c3*DM3\n",
    "    ConvP=c1*Conv1+c2*Conv2+c3*Conv3\n",
    "    print()\n",
    "    print(f\"El precio del portafolio es {P}\")\n",
    "    print(f\"La DM conjunta de los bonos es de {DMP}\")\n",
    "    print(f\"La convexidad conjunta de los bonos es de {ConvP}\")\n",
    "    \n",
    "elif a==4:\n",
    "\n",
    "\n",
    "    print(\"Dame el número del primer bono a utilizar\")\n",
    "    n1=float(input())\n",
    "    print(\"Dame el precio del primer bono\")\n",
    "    P1=float(input())\n",
    "    print(\"Dame la DM del primer bono\")\n",
    "    DM1=float(input())\n",
    "    print(\"Dame la convexidad del primer bono\")\n",
    "    Conv1=float(input())\n",
    "\n",
    "    print(\"Dame el número del segundo bono a utilizar\")\n",
    "    n2=float(input())\n",
    "    print(\"Dame el precio del segundo bono\")\n",
    "    P2=float(input())\n",
    "    print(\"Dame la DM del segundo bono\")\n",
    "    DM2=float(input())\n",
    "    print(\"Dame la convexidad del segundo bono\")\n",
    "    Conv2=float(input())\n",
    "    \n",
    "    print(\"Dame el número del tercer bono a utilizar\")\n",
    "    n3=float(input())\n",
    "    print(\"Dame el precio del tercer bono\")\n",
    "    P3=float(input())\n",
    "    print(\"Dame la DM del tercer bono\")\n",
    "    DM3=float(input())\n",
    "    print(\"Dame la convexidad del tercer bono\")\n",
    "    Conv3=float(input())\n",
    "\n",
    "    print(\"Dame el número del cuarto bono a utilizar\")\n",
    "    n4=float(input())\n",
    "    print(\"Dame el precio del cuarto bono\")\n",
    "    P4=float(input())\n",
    "    print(\"Dame la DM del cuarto bono\")\n",
    "    DM4=float(input())\n",
    "    print(\"Dame la convexidad del cuarto bono\")\n",
    "    Conv4=float(input())\n",
    "\n",
    "    P=n1*P1+n2*P2+n3*P3+n4*P4\n",
    "    c1=n1*P1/P\n",
    "    c2=n2*P2/P\n",
    "    c3=n3*P3/P\n",
    "    c4=n4*P4/P\n",
    "    DMP=c1*DM1+c2*DM2+c3*DM3+c4*DM4\n",
    "    ConvP=c1*Conv1+c2*Conv2+c3*Conv3+c4*Conv4\n",
    "    print()\n",
    "    print(f\"El precio del portafolio es {P}\")\n",
    "    print(f\"La DM conjunta de los bonos es de {DMP}\")\n",
    "    print(f\"La convexidad conjunta de los bonos es de {ConvP}\")"
   ]
  },
  {
   "cell_type": "markdown",
   "id": "66d3677d-a0af-472d-a0a5-263d8e14e674",
   "metadata": {
    "tags": []
   },
   "source": [
    "### Inmunización\n"
   ]
  },
  {
   "cell_type": "code",
   "execution_count": 3,
   "id": "b44060bd-e004-445f-a37f-60c4e838e0c8",
   "metadata": {},
   "outputs": [
    {
     "name": "stdout",
     "output_type": "stream",
     "text": [
      "¿Cuántos instrumentos o portafolios vas a ocupar para la inmunización?\n"
     ]
    },
    {
     "name": "stdin",
     "output_type": "stream",
     "text": [
      " 1\n"
     ]
    },
    {
     "name": "stdout",
     "output_type": "stream",
     "text": [
      "Dame el precio del portafolio a inmunizar\n"
     ]
    },
    {
     "name": "stdin",
     "output_type": "stream",
     "text": [
      " 328.34\n"
     ]
    },
    {
     "name": "stdout",
     "output_type": "stream",
     "text": [
      "Dame la DM del portafolio a inmunizar\n"
     ]
    },
    {
     "name": "stdin",
     "output_type": "stream",
     "text": [
      " 6.76\n"
     ]
    },
    {
     "name": "stdout",
     "output_type": "stream",
     "text": [
      "Dame la Convexidad del portafolio a inmunizar\n"
     ]
    },
    {
     "name": "stdin",
     "output_type": "stream",
     "text": [
      " 0\n"
     ]
    },
    {
     "name": "stdout",
     "output_type": "stream",
     "text": [
      "Dame el cambio de pb\n"
     ]
    },
    {
     "name": "stdin",
     "output_type": "stream",
     "text": [
      " 10\n"
     ]
    },
    {
     "name": "stdout",
     "output_type": "stream",
     "text": [
      "Dame el precio del intrumento \n"
     ]
    },
    {
     "name": "stdin",
     "output_type": "stream",
     "text": [
      " 118.79\n"
     ]
    },
    {
     "name": "stdout",
     "output_type": "stream",
     "text": [
      "Dame la DM del instrumento\n"
     ]
    },
    {
     "name": "stdin",
     "output_type": "stream",
     "text": [
      " 5.49\n"
     ]
    },
    {
     "name": "stdout",
     "output_type": "stream",
     "text": [
      "\n",
      "Si tenemos un cambio de 10.0pb perderíamos -2.2195783999999996\n",
      "\n",
      "El número del instrumento que necesitas para cubrir el cambio es de -3.403441287383055\n",
      "\n",
      "La ganancia es de -0.6521571\n",
      "Si utilizamos -3.403441287383055 del intrumento al multiplicarla por la ganancia nos da 2.2195784\n"
     ]
    }
   ],
   "source": [
    "print(\"¿Cuántos instrumentos o portafolios vas a ocupar para la inmunización?\")\n",
    "i=float(input())\n",
    "print(\"Dame el precio del portafolio a inmunizar\")\n",
    "P=float(input())\n",
    "print(\"Dame la DM del portafolio a inmunizar\")\n",
    "DMp=float(input())\n",
    "print(\"Dame la Convexidad del portafolio a inmunizar\")\n",
    "Convp=float(input())\n",
    "print(\"Dame el cambio de pb\")\n",
    "h=float(input())\n",
    "\n",
    "G=-P*(h/10000)*DMp+((h/10000)**2/2)*P*Convp\n",
    "\n",
    "\n",
    "if      i==1: \n",
    "        print(\"Dame el precio del intrumento \")\n",
    "        Q1=float(input())\n",
    "        print(\"Dame la DM del instrumento\")\n",
    "        DMq1=float(input())\n",
    "        phi_1=(-DMp*P)/(DMq1*Q1)\n",
    "        print()\n",
    "        print(f\"Si tenemos un cambio de {h}pb perderíamos {-P*(h/10000)*DMp}\")\n",
    "        print()\n",
    "        print(f\"El número del instrumento que necesitas para cubrir el cambio es de {phi_1}\")\n",
    "        print()\n",
    "        print(f\"La ganancia es de {-h/10000*Q1*DMq1}\")\n",
    "        print(f\"Si utilizamos {phi_1} del intrumento al multiplicarla por la ganancia nos da {phi_1*(-h/10000*Q1*DMq1)}\")\n",
    "        \n",
    "elif    i==2: \n",
    "        print(\"Dame el precio del primer intrumento \")\n",
    "        Q1=float(input())\n",
    "        print(\"Dame la DM del primer instrumento\")\n",
    "        DMq1=float(input())\n",
    "        print(\"Dame la Convexidad del primer instrumento\")\n",
    "        Convq1=float(input())\n",
    "        print(\"Dame el precio del segundo intrumento \")\n",
    "        Q2=float(input())\n",
    "        print(\"Dame la DM del segundo instrumento\")\n",
    "        DMq2=float(input())\n",
    "        print(\"Dame la Convexidad del segundo instrumento\")\n",
    "        Convq2=float(input())\n",
    "        print(\"Dame el precio nuevo con los pb del primer instrumento\")\n",
    "        l1=float(input())\n",
    "        L1=l1-Q1\n",
    "        print(\"Dame el precio nuevo con los pb del segundo instrumento\")\n",
    "        l2=float(input())\n",
    "        L2=l2-Q2\n",
    "        \n",
    "        A=np.linalg.inv([[DMq1*Q1,DMq2*Q2],[Convq1*Q1,Convq2*Q2],])\n",
    "        B=[[-DMp*P],[-Convp*P]]\n",
    "        phi_s=np.dot(A,B)\n",
    "        print()\n",
    "        print(f\"Si tenemos un cambio de {h}pb perderíamos {G}\")\n",
    "        print()\n",
    "        print(f\"Número del primer instrumento que necesitas para cubrir el cambio es de {phi_s[0,0]}\")\n",
    "        print(f\"Número del segundo instrumento que necesitas para cubrir el cambio es de {phi_s[1,0]}\")\n",
    "        print()\n",
    "        print(f\"Si utilizamos {phi_s[0,0]} del primer intrumento al multiplicarla por la diferencia de precios nos da {phi_s[0,0]*L1}\")\n",
    "        print(f\"si utilizamos {phi_s[1,0]} del segundo intrumento al multiplicarla por la diferencia de precios nos da {phi_s[1,0]*L2}\")\n",
    "        print()\n",
    "        print(f\"Sumando las cantidades anteriores nos queda {phi_s[1,0]*L2+phi_s[0,0]*L1}\")\n",
    "        \n",
    "        \n",
    "elif    i==3:\n",
    "        print(\"Dame el precio del primer intrumento \")\n",
    "        Q1=float(input())\n",
    "        print(\"Dame la DM del primer instrumento\")\n",
    "        DMq1=float(input())\n",
    "        print(\"Dame la Convexidad del primer instrumento\")\n",
    "        Convq1=float(input())\n",
    "        print(\"Dame el precio del segundo intrumento \")\n",
    "        Q2=float(input())\n",
    "        print(\"Dame la DM del segundo instrumento\")\n",
    "        DMq2=float(input())\n",
    "        print(\"Dame la Convexidad del segundo instrumento\")\n",
    "        Convq2=float(input())\n",
    "        print(\"Dame el precio del tercer intrumento \")\n",
    "        Q3=float(input())\n",
    "        print(\"Dame la DM del tercer instrumento\")\n",
    "        DMq3=float(input())\n",
    "        print(\"Dame la Convexidad del tercer instrumento\")\n",
    "        Convq3=float(input())\n",
    "        print(\"Dame el precio nuevo con los pb del primer instrumento\")\n",
    "        l1=float(input())\n",
    "        L1=l1-Q1\n",
    "        print(\"Dame el precio nuevo con los pb del segundo instrumento\")\n",
    "        l2=float(input())\n",
    "        L2=l2-Q2\n",
    "        print(\"Dame el precio nuevo con los pb del tercer instrumento\")\n",
    "        l3=float(input())\n",
    "        L3=l3-Q3\n",
    "        A=np.linalg.inv([[DMq1*Q1,DMq2*Q2,DMq3*Q3],[Convq1*Q1,Convq2*Q2,Convq3*Q3],[Q1,Q2,Q3]])\n",
    "        B=[[-DMp*P],[-Convp*P],[-P]]\n",
    "        phi_s=np.dot(A,B)\n",
    "        print()\n",
    "        print(f\"Si tenemos un cambio de {h}pb perderíamos {G}\")\n",
    "        print()\n",
    "        print(f\"Número del primer instrumento que necesitas para cubrir el cambio es de {phi_s[0,0]}\")\n",
    "        print(f\"Número del segundo instrumento que necesitas para cubrir el cambio es de {phi_s[1,0]}\")\n",
    "        print(f\"Número del tercer instrumento que necesitas para cubrir el cambio es de {phi_s[2,0]}\")\n",
    "        print()\n",
    "        print(f\"Si utilizamos {phi_s[0,0]} del primer intrumento al multiplicarla por la diferencia de precios nos da {phi_s[0,0]*L1}\")\n",
    "        print(f\"Si utilizamos {phi_s[1,0]} del segundo intrumento al multiplicarla por la diferencia de precios nos da {phi_s[1,0]*L2}\")\n",
    "        print(f\"Si utilizamos {phi_s[2,0]} del tercer intrumento al multiplicarla por la diferencia de precios nos da {phi_s[2,0]*L3}\")\n",
    "        print()\n",
    "        print(f\"Sumando las cantidades anteriores nos queda {phi_s[1,0]*L2+phi_s[0,0]*L1+phi_s[2,0]*L3}\")\n",
    "else:\n",
    "    print(\"Revisa que hayas escrito bien\")\n",
    "     "
   ]
  },
  {
   "cell_type": "markdown",
   "id": "4ff24b71-6154-43b6-8043-e65dd54bfef5",
   "metadata": {},
   "source": [
    "Obten las tasas faltantes y comprueba que el valor futuro es el mismo para las tasas equivalentes"
   ]
  },
  {
   "cell_type": "code",
   "execution_count": 6,
   "id": "cd274f58-91c1-44ff-bc7e-da277f2369f1",
   "metadata": {
    "tags": []
   },
   "outputs": [
    {
     "name": "stdout",
     "output_type": "stream",
     "text": [
      "La tasa efectiva inicial es de 0.05\n",
      "La tasa equivalente nominal es de 0.04908893771615741\n",
      "La tasa equivalente continua es de 0.04879016416943205\n"
     ]
    }
   ],
   "source": [
    "efectiva(.05,4)"
   ]
  },
  {
   "cell_type": "code",
   "execution_count": 55,
   "id": "8984e046-8940-4641-a8c4-c51b0038e328",
   "metadata": {
    "tags": []
   },
   "outputs": [
    {
     "data": {
      "text/plain": [
       "0.07250818125421654"
      ]
     },
     "execution_count": 55,
     "metadata": {},
     "output_type": "execute_result"
    }
   ],
   "source": [
    "continua_efectiva(0.07)"
   ]
  },
  {
   "cell_type": "code",
   "execution_count": 17,
   "id": "9cb4d863-3737-415c-bd36-2fadc3e7bec9",
   "metadata": {
    "tags": []
   },
   "outputs": [],
   "source": [
    "monto=[100,100,100]\n",
    "años=[2,4,7]\n",
    "capi=[4,2,6]\n",
    "efec=[0.05,0.10,0.08]\n",
    "cont=[]\n",
    "nom=[]\n",
    "for i in efec:\n",
    "    cont.append(efectiva_continua(i))\n",
    "for i in range(len(efec)):\n",
    "    nom.append(efectiva_nominal(efec[i], capi[i]))"
   ]
  },
  {
   "cell_type": "code",
   "execution_count": 30,
   "id": "8de8f466-0a4f-4d90-8d4a-db2858261af2",
   "metadata": {
    "tags": []
   },
   "outputs": [],
   "source": [
    "futc=[]\n",
    "fute=[]\n",
    "futn=[]\n",
    "for i in range(3):\n",
    "    futc.append(vf_continua(cont[i],años[i],monto[i]))\n",
    "    fute.append(vf_efectiva(efec[i],años[i],monto[i]))\n",
    "    futn.append(vf_nominal(nom[i],años[i],capi[i],monto[i]))"
   ]
  },
  {
   "cell_type": "code",
   "execution_count": 31,
   "id": "79f47261-67ba-47e4-a98a-ce1a306d63bf",
   "metadata": {
    "tags": []
   },
   "outputs": [
    {
     "data": {
      "text/html": [
       "<div>\n",
       "<style scoped>\n",
       "    .dataframe tbody tr th:only-of-type {\n",
       "        vertical-align: middle;\n",
       "    }\n",
       "\n",
       "    .dataframe tbody tr th {\n",
       "        vertical-align: top;\n",
       "    }\n",
       "\n",
       "    .dataframe thead th {\n",
       "        text-align: right;\n",
       "    }\n",
       "</style>\n",
       "<table border=\"1\" class=\"dataframe\">\n",
       "  <thead>\n",
       "    <tr style=\"text-align: right;\">\n",
       "      <th></th>\n",
       "      <th>Monto</th>\n",
       "      <th>Años</th>\n",
       "      <th>Capitalización</th>\n",
       "      <th>Continua</th>\n",
       "      <th>Efectiva</th>\n",
       "      <th>Nominal</th>\n",
       "      <th>VF tasa continua</th>\n",
       "      <th>VF tasa efectiva</th>\n",
       "      <th>VF tasa nominal</th>\n",
       "    </tr>\n",
       "  </thead>\n",
       "  <tbody>\n",
       "    <tr>\n",
       "      <th>0</th>\n",
       "      <td>100</td>\n",
       "      <td>2</td>\n",
       "      <td>4</td>\n",
       "      <td>0.048790</td>\n",
       "      <td>0.05</td>\n",
       "      <td>0.049089</td>\n",
       "      <td>110.250000</td>\n",
       "      <td>110.250000</td>\n",
       "      <td>110.250000</td>\n",
       "    </tr>\n",
       "    <tr>\n",
       "      <th>1</th>\n",
       "      <td>100</td>\n",
       "      <td>4</td>\n",
       "      <td>2</td>\n",
       "      <td>0.095310</td>\n",
       "      <td>0.10</td>\n",
       "      <td>0.097618</td>\n",
       "      <td>146.410000</td>\n",
       "      <td>146.410000</td>\n",
       "      <td>146.410000</td>\n",
       "    </tr>\n",
       "    <tr>\n",
       "      <th>2</th>\n",
       "      <td>100</td>\n",
       "      <td>7</td>\n",
       "      <td>6</td>\n",
       "      <td>0.076961</td>\n",
       "      <td>0.08</td>\n",
       "      <td>0.077457</td>\n",
       "      <td>171.382427</td>\n",
       "      <td>171.382427</td>\n",
       "      <td>171.382427</td>\n",
       "    </tr>\n",
       "  </tbody>\n",
       "</table>\n",
       "</div>"
      ],
      "text/plain": [
       "   Monto  Años  Capitalización  Continua  Efectiva   Nominal  \\\n",
       "0    100     2               4  0.048790      0.05  0.049089   \n",
       "1    100     4               2  0.095310      0.10  0.097618   \n",
       "2    100     7               6  0.076961      0.08  0.077457   \n",
       "\n",
       "   VF tasa continua  VF tasa efectiva  VF tasa nominal  \n",
       "0        110.250000        110.250000       110.250000  \n",
       "1        146.410000        146.410000       146.410000  \n",
       "2        171.382427        171.382427       171.382427  "
      ]
     },
     "execution_count": 31,
     "metadata": {},
     "output_type": "execute_result"
    }
   ],
   "source": [
    "setlist=list(zip(monto,años,capi,cont,efec,nom,futc,fute,futn))\n",
    "tasas=pd.DataFrame(setlist,columns=[\"Monto\",\"Años\",\"Capitalización\",\"Continua\",\"Efectiva\",\"Nominal\",\"VF tasa continua\",\"VF tasa efectiva\",\"VF tasa nominal\"])\n",
    "tasas"
   ]
  },
  {
   "cell_type": "code",
   "execution_count": 79,
   "id": "b04d1ceb-6003-4e8c-8f85-011e3430baab",
   "metadata": {
    "tags": []
   },
   "outputs": [
    {
     "data": {
      "text/plain": [
       "3.6157216946540904"
      ]
     },
     "execution_count": 79,
     "metadata": {},
     "output_type": "execute_result"
    }
   ],
   "source": [
    "#José va a recibir el pago de su aguinaldo el cual es de $175,000 y lo quiere invertir en una cuenta que le otorga un interés del \n",
    "#15% capitalizable mensualmente, ¿En cuánto tiempo alcanzaría una inversión de $300,000?\n",
    "\n",
    "tiempon(175000,300000,.15,12)"
   ]
  },
  {
   "cell_type": "code",
   "execution_count": 82,
   "id": "6d63c6d2-b2d1-49d7-958d-e0fb65ef41fd",
   "metadata": {
    "tags": []
   },
   "outputs": [
    {
     "data": {
      "text/plain": [
       "178.81090746535537"
      ]
     },
     "execution_count": 82,
     "metadata": {},
     "output_type": "execute_result"
    }
   ],
   "source": [
    "#¿Cuál es el precio de un bono cupón cero que paga un nominal de $200 dentro de un año bajo un YTM del 11.85% anual? \n",
    "precio_bono(200,0,1,1,.1185,1)"
   ]
  },
  {
   "cell_type": "code",
   "execution_count": 83,
   "id": "132a8503-05c8-42d2-bbd5-024b58a3efc4",
   "metadata": {
    "tags": []
   },
   "outputs": [
    {
     "data": {
      "text/plain": [
       "9.915692857705169"
      ]
     },
     "execution_count": 83,
     "metadata": {},
     "output_type": "execute_result"
    }
   ],
   "source": [
    "#¿Cuál es el precio de un bono cupón cero que paga un nominal de $10 dentro de 28 día bajo un YTM del 11.5% anual? \n",
    "precio_bono(10,0,1,28/360,.115,1)"
   ]
  },
  {
   "cell_type": "code",
   "execution_count": 86,
   "id": "ddfad61c-3b20-4cd2-9813-3d9099c6a6b1",
   "metadata": {
    "tags": []
   },
   "outputs": [
    {
     "data": {
      "text/plain": [
       "9.91134849402566"
      ]
     },
     "execution_count": 86,
     "metadata": {},
     "output_type": "execute_result"
    }
   ],
   "source": [
    "#Precio de un cete\n",
    "#N nominal\n",
    "#r YTM anual\n",
    "#n madurez\n",
    "precio_cete(10,28,.115)\n",
    " "
   ]
  },
  {
   "cell_type": "code",
   "execution_count": 87,
   "id": "7978e7ff-de4d-44a8-a235-bc387385cbeb",
   "metadata": {
    "tags": []
   },
   "outputs": [
    {
     "data": {
      "text/plain": [
       "0.16670525584625973"
      ]
     },
     "execution_count": 87,
     "metadata": {},
     "output_type": "execute_result"
    }
   ],
   "source": [
    "#¿Cuál es el YTM anual de un cete emitido por el banco central con un precio de $9.872 y madurez de 28 días?\n",
    "r_cete(9.872,10,28)"
   ]
  },
  {
   "cell_type": "code",
   "execution_count": 68,
   "id": "a1900a63-8a0a-452d-b650-805eab042540",
   "metadata": {},
   "outputs": [
    {
     "data": {
      "text/html": [
       "<div>\n",
       "<style scoped>\n",
       "    .dataframe tbody tr th:only-of-type {\n",
       "        vertical-align: middle;\n",
       "    }\n",
       "\n",
       "    .dataframe tbody tr th {\n",
       "        vertical-align: top;\n",
       "    }\n",
       "\n",
       "    .dataframe thead th {\n",
       "        text-align: right;\n",
       "    }\n",
       "</style>\n",
       "<table border=\"1\" class=\"dataframe\">\n",
       "  <thead>\n",
       "    <tr style=\"text-align: right;\">\n",
       "      <th></th>\n",
       "      <th>Periodo</th>\n",
       "      <th>Bono 7</th>\n",
       "      <th>Bono 8</th>\n",
       "      <th>Bono 9</th>\n",
       "    </tr>\n",
       "  </thead>\n",
       "  <tbody>\n",
       "    <tr>\n",
       "      <th>0</th>\n",
       "      <td>1</td>\n",
       "      <td>90.575607</td>\n",
       "      <td>100.0</td>\n",
       "      <td>116.747144</td>\n",
       "    </tr>\n",
       "    <tr>\n",
       "      <th>1</th>\n",
       "      <td>2</td>\n",
       "      <td>91.538924</td>\n",
       "      <td>100.0</td>\n",
       "      <td>114.751973</td>\n",
       "    </tr>\n",
       "    <tr>\n",
       "      <th>2</th>\n",
       "      <td>3</td>\n",
       "      <td>92.608206</td>\n",
       "      <td>100.0</td>\n",
       "      <td>112.637091</td>\n",
       "    </tr>\n",
       "    <tr>\n",
       "      <th>3</th>\n",
       "      <td>4</td>\n",
       "      <td>93.795109</td>\n",
       "      <td>100.0</td>\n",
       "      <td>110.395317</td>\n",
       "    </tr>\n",
       "    <tr>\n",
       "      <th>4</th>\n",
       "      <td>5</td>\n",
       "      <td>95.112571</td>\n",
       "      <td>100.0</td>\n",
       "      <td>108.019036</td>\n",
       "    </tr>\n",
       "    <tr>\n",
       "      <th>5</th>\n",
       "      <td>6</td>\n",
       "      <td>96.574953</td>\n",
       "      <td>100.0</td>\n",
       "      <td>105.500178</td>\n",
       "    </tr>\n",
       "    <tr>\n",
       "      <th>6</th>\n",
       "      <td>7</td>\n",
       "      <td>98.198198</td>\n",
       "      <td>100.0</td>\n",
       "      <td>102.830189</td>\n",
       "    </tr>\n",
       "    <tr>\n",
       "      <th>7</th>\n",
       "      <td>8</td>\n",
       "      <td>100.000000</td>\n",
       "      <td>100.0</td>\n",
       "      <td>100.000000</td>\n",
       "    </tr>\n",
       "  </tbody>\n",
       "</table>\n",
       "</div>"
      ],
      "text/plain": [
       "   Periodo      Bono 7  Bono 8      Bono 9\n",
       "0        1   90.575607   100.0  116.747144\n",
       "1        2   91.538924   100.0  114.751973\n",
       "2        3   92.608206   100.0  112.637091\n",
       "3        4   93.795109   100.0  110.395317\n",
       "4        5   95.112571   100.0  108.019036\n",
       "5        6   96.574953   100.0  105.500178\n",
       "6        7   98.198198   100.0  102.830189\n",
       "7        8  100.000000   100.0  100.000000"
      ]
     },
     "execution_count": 68,
     "metadata": {},
     "output_type": "execute_result"
    }
   ],
   "source": [
    "setlist=list(zip((t:=np.arange(1,9)),bonos_fec(100,.09,1,8,.11,1),bonos_fec(100,.09,1,8,.09,1),bonos_fec(100,.09,1,8,.06,1)))\n",
    "bonos=pd.DataFrame(setlist,columns=[\"Periodo\",\"Bono 7\",\"Bono 8\",\"Bono 9\"])\n",
    "bonos"
   ]
  },
  {
   "cell_type": "markdown",
   "id": "7d42d9c9-5a13-4aeb-9cc9-d5ee5331e1a3",
   "metadata": {},
   "source": [
    "#### Gráfica"
   ]
  },
  {
   "cell_type": "code",
   "execution_count": 71,
   "id": "b819c7ab-8bb8-4342-a375-c10bb98e0381",
   "metadata": {},
   "outputs": [
    {
     "data": {
      "text/plain": [
       "<matplotlib.legend.Legend at 0x13b7c2a50>"
      ]
     },
     "execution_count": 71,
     "metadata": {},
     "output_type": "execute_result"
    },
    {
     "data": {
      "image/png": "[encoded data removed]",
      "text/plain": [
       "<Figure size 640x480 with 1 Axes>"
      ]
     },
     "metadata": {},
     "output_type": "display_data"
    }
   ],
   "source": [
    "plt.plot(bonos[\"Periodo\"],bonos[\"Bono 7\"])\n",
    "plt.plot(bonos[\"Periodo\"],bonos[\"Bono 8\"])\n",
    "plt.plot(bonos[\"Periodo\"],bonos[\"Bono 9\"])\n",
    "\n",
    "plt.title(\"Cambio en precio de los bonos por periodo\")\n",
    "plt.xlabel(\"Periodo\")\n",
    "plt.ylabel(\"Precio\")\n",
    "plt.legend([\"Bono 7\",\"Bono 8\",\"Bono 9\"])"
   ]
  },
  {
   "cell_type": "code",
   "execution_count": 93,
   "id": "18640062-20e4-451c-ad4c-85055ae2dc5d",
   "metadata": {
    "tags": []
   },
   "outputs": [
    {
     "data": {
      "text/plain": [
       "84.88153716579873"
      ]
     },
     "execution_count": 93,
     "metadata": {},
     "output_type": "execute_result"
    }
   ],
   "source": [
    "#¿Cuál es el precio de un bono corporativo con valor nominal de $100 que promete pagar intereses del \n",
    "#10% capitalizable bimestralmente durante 20 años, con una YTM del 12% capitalizable bimestralmente? \n",
    "precio_bono(100,.1,6,20,.12,6)"
   ]
  },
  {
   "cell_type": "code",
   "execution_count": 95,
   "id": "8ee33aed-4b31-4438-b4c2-61a77424c9ba",
   "metadata": {
    "tags": []
   },
   "outputs": [
    {
     "data": {
      "text/plain": [
       "79.26302245588073"
      ]
     },
     "execution_count": 95,
     "metadata": {},
     "output_type": "execute_result"
    }
   ],
   "source": [
    "#¿Cuál es el precio de un bono corporativo con valor nominal de $100 que promete pagar intereses del \n",
    "#5% capitalizable bimestralmente durante 20 años, con una YTM del 7% capitalizable semestralmente? \n",
    "precio_bono(100,.05,6,20,.07,2)"
   ]
  },
  {
   "cell_type": "code",
   "execution_count": 97,
   "id": "3183e94c-27b1-47b4-9388-6eec46b697a6",
   "metadata": {
    "tags": []
   },
   "outputs": [],
   "source": [
    "#¿Cuál es el precio de un bono corporativo con valor nominal de $100 que promete pagar intereses del \n",
    "#5% capitalizable bimestralmente durante 5 años, con una YTM del 7% capitalizable semestralmente? \n",
    "precio_bono(100,.05,6,5,.07,2)\n",
    "\n"
   ]
  },
  {
   "cell_type": "code",
   "execution_count": 99,
   "id": "d4870ffc-05c2-4b75-9342-ef9520056a36",
   "metadata": {
    "tags": []
   },
   "outputs": [
    {
     "data": {
      "text/plain": [
       "93.8474114000718"
      ]
     },
     "execution_count": 99,
     "metadata": {},
     "output_type": "execute_result"
    }
   ],
   "source": [
    "#¿Cuál es el precio de un bono que paga cupones del 5.5% capitalizable cada 182 días emitido el \n",
    "#1 de agosto del 2023 y con madurez del 28 de julio del 2026, con una YTM de 8%? \n",
    "#Usar la convención de act/360. \n",
    "precio_bono(100,.055,360/182,1077/360,.08,1)"
   ]
  },
  {
   "cell_type": "code",
   "execution_count": 105,
   "id": "a00147a0-2c4d-4495-8169-4b80c0287620",
   "metadata": {
    "tags": []
   },
   "outputs": [
    {
     "data": {
      "text/plain": [
       "93.8474114000718"
      ]
     },
     "execution_count": 105,
     "metadata": {},
     "output_type": "execute_result"
    }
   ],
   "source": [
    "precio_bono_act(100,.055,182,1077,.08,1,360)"
   ]
  },
  {
   "cell_type": "code",
   "execution_count": 53,
   "id": "16dd82c7-c657-4d37-ba37-e64ff019799b",
   "metadata": {},
   "outputs": [],
   "source": [
    "h=[35, -35, 200, -200]"
   ]
  },
  {
   "cell_type": "code",
   "execution_count": null,
   "id": "46e77e17-21a2-46a9-9df1-30cfbb7aa594",
   "metadata": {},
   "outputs": [],
   "source": [
    "#De los bonos calculados en las preguntas 7,8,10,11,12 y 13 \n",
    "\n",
    "# a.\tCalcula la duración modificada, convexidad e interpreta los resultados comparando los 6 bonos.\n",
    "# b.\tAproxima el nuevo precio, cambio en pesos y cambio porcentual dado un cambio de 35 pb en el YTM usando solo la DM.\n",
    "# c.\tAproxima el nuevo precio, cambio en pesos y cambio porcentual dado un cambio de 200 pb en el YTM usando solo la DM.\n",
    "# d.\tAproxima el nuevo precio, cambio en pesos y cambio porcentual dado un cambio de 200 pb en el YTM usando la DM y la convexidad.\n",
    "# e.\t¿Llegas a lo mismo en el inciso c y d? Argumenta las razones por lo cual llegas o no al mismo resultado, puedes apoyarte graficando los bonos con distintos ytm’s.\n"
   ]
  },
  {
   "cell_type": "code",
   "execution_count": 70,
   "id": "c46ffd72-17de-4117-a43f-659a9c36e4e3",
   "metadata": {
    "tags": []
   },
   "outputs": [
    {
     "name": "stdout",
     "output_type": "stream",
     "text": [
      "El precio del bono 8 es de 99.99999999999996\n",
      "La DM del bono 8 es de 5.534819114747018\n",
      "La convexidad del bono 8 es de 41.14215285814687\n",
      "\n",
      "Utilizando solo DM\n",
      "El cambio por 35 pb en pesos del bono 8 es $-1.9371866901614554\n",
      "El cambio porcentual por 35 pb del bono 8 es -1.93719%\n",
      "El nuevo precio aproximado por 35 pb del bono 8 es $98.0628133098385\n",
      "\n",
      "Utilizando la DM y la convexidad\n",
      "El cambio por 35 pb en pesos del bono 8 es $-1.9119871215358404\n",
      "El cambio porcentual por 35 pb del bono 8 es -1.91199%\n",
      "El nuevo precio aproximado por 35 pb del bono 8 es $98.08801287846411\n",
      "La diferencia de precios es de -1.9119871215358444\n",
      "\n",
      "Utilizando solo DM\n",
      "El cambio por -35 pb en pesos del bono 8 es $1.9371866901614554\n",
      "El cambio porcentual por -35 pb del bono 8 es 1.93719%\n",
      "El nuevo precio aproximado por -35 pb del bono 8 es $101.93718669016141\n",
      "\n",
      "Utilizando la DM y la convexidad\n",
      "El cambio por -35 pb en pesos del bono 8 es $1.9623862587870704\n",
      "El cambio porcentual por -35 pb del bono 8 es 1.96239%\n",
      "El nuevo precio aproximado por -35 pb del bono 8 es $101.96238625878702\n",
      "La diferencia de precios es de 1.9623862587870633\n",
      "\n",
      "Utilizando solo DM\n",
      "El cambio por 200 pb en pesos del bono 8 es $-11.06963822949403\n",
      "El cambio porcentual por 200 pb del bono 8 es -11.06964%\n",
      "El nuevo precio aproximado por 200 pb del bono 8 es $88.93036177050593\n",
      "\n",
      "Utilizando la DM y la convexidad\n",
      "El cambio por 200 pb en pesos del bono 8 es $-10.246795172331094\n",
      "El cambio porcentual por 200 pb del bono 8 es -10.24680%\n",
      "El nuevo precio aproximado por 200 pb del bono 8 es $89.75320482766887\n",
      "La diferencia de precios es de -10.24679517233109\n",
      "\n",
      "Utilizando solo DM\n",
      "El cambio por -200 pb en pesos del bono 8 es $11.06963822949403\n",
      "El cambio porcentual por -200 pb del bono 8 es 11.06964%\n",
      "El nuevo precio aproximado por -200 pb del bono 8 es $111.06963822949398\n",
      "\n",
      "Utilizando la DM y la convexidad\n",
      "El cambio por -200 pb en pesos del bono 8 es $11.892481286656967\n",
      "El cambio porcentual por -200 pb del bono 8 es 11.89248%\n",
      "El nuevo precio aproximado por -200 pb del bono 8 es $111.89248128665693\n",
      "La diferencia de precios es de 11.892481286656974\n"
     ]
    }
   ],
   "source": [
    "# Nominal\n",
    "# c tasa cupón\n",
    "# m capitalización de la tasa\n",
    "# n años\n",
    "# r tasa YTM\n",
    "# l cada cuando nos hacen los pagos\n",
    "# h cambios en los pbs\n",
    "bono7 = DM_Conv(100,.09,1,8, 0.09,1, h, 8)"
   ]
  },
  {
   "cell_type": "code",
   "execution_count": null,
   "id": "1c259711-0e48-4d67-9525-77fae0569c16",
   "metadata": {},
   "outputs": [],
   "source": [
    "#BONO 8\n",
    "bono8 = DM_Conv(100,.09,4,5,.14,2,100)"
   ]
  },
  {
   "cell_type": "code",
   "execution_count": null,
   "id": "211ae471-5071-43e8-be83-f0b404cdeaac",
   "metadata": {},
   "outputs": [],
   "source": []
  },
  {
   "cell_type": "code",
   "execution_count": null,
   "id": "3c0a0604-dfbe-47b3-97cc-69d28f386c95",
   "metadata": {},
   "outputs": [],
   "source": []
  },
  {
   "cell_type": "code",
   "execution_count": 90,
   "id": "37d0f770-137a-473e-b0a1-b36d7a94160e",
   "metadata": {},
   "outputs": [],
   "source": [
    "def precios_bonos_var(ytms, bonos_info):\n",
    "    \"\"\"\n",
    "    Calcula los precios de los bonos y su variación porcentual respecto a un YTM de referencia.\n",
    "    \n",
    "    Parámetros:\n",
    "    ytms : array-like\n",
    "        Lista de tasas de rendimiento (YTM) a evaluar.\n",
    "    bonos_info : list of tuples\n",
    "        Lista de bonos con formato [(valor_nominal, cupón, años, pagos_anuales)].\n",
    "    \n",
    "    Retorna:\n",
    "    pd.DataFrame\n",
    "        DataFrame con las columnas YTM, precios de los bonos y variaciones porcentuales.\n",
    "    \"\"\"\n",
    "    \n",
    "    # Calcular precios de referencia para YTM = 0.09 y almacenarlos\n",
    "    precios_referencia = [precio_bono(vn, c, n, f, 0.09, m) for vn, c, n, f, m in bonos_info]\n",
    "    \n",
    "    # Calcular los precios y las variaciones porcentuales para cada YTM\n",
    "    datos = [\n",
    "        (ytm,) + tuple(valor for (vn, c, n, f, m), ref in zip(bonos_info, precios_referencia)\n",
    "                       for valor in (precio_bono(vn, c, n, f, ytm, m), precio_bono(vn, c, n, f, ytm, m) / ref - 1))\n",
    "        for ytm in ytms\n",
    "    ]\n",
    "    \n",
    "    # Construcción dinámica de los nombres de las columnas\n",
    "    columnas = [\"YTM\"] + [\n",
    "        f\"Bono{i+1}\" if j % 2 == 0 else f\"Variación{i+1}\"\n",
    "        for i in range(len(bonos_info))\n",
    "        for j in range(2)\n",
    "    ]\n",
    "    \n",
    "    return pd.DataFrame(datos, columns=columnas)\n",
    "\n",
    "\n",
    "#N nominal\n",
    "#c tasa cupón\n",
    "#n madurez\n",
    "#m capitalización YTM\n",
    "#r YTM\n",
    "#l capitalización tasa c\n",
    "\n",
    "#P>N. c>r  Sobre par\n",
    "#P<N. c<r  Bajo par\n",
    "#P=N. c=r  A la par\n",
    "\n",
    "#def precio_bono(N,c,l,n,r,m)\n"
   ]
  },
  {
   "cell_type": "code",
   "execution_count": 96,
   "id": "7f701aa0-96a2-4fab-9aee-493c6f01e48d",
   "metadata": {},
   "outputs": [
    {
     "data": {
      "text/html": [
       "<div>\n",
       "<style scoped>\n",
       "    .dataframe tbody tr th:only-of-type {\n",
       "        vertical-align: middle;\n",
       "    }\n",
       "\n",
       "    .dataframe tbody tr th {\n",
       "        vertical-align: top;\n",
       "    }\n",
       "\n",
       "    .dataframe thead th {\n",
       "        text-align: right;\n",
       "    }\n",
       "</style>\n",
       "<table border=\"1\" class=\"dataframe\">\n",
       "  <thead>\n",
       "    <tr style=\"text-align: right;\">\n",
       "      <th></th>\n",
       "      <th>YTM</th>\n",
       "      <th>Bono7</th>\n",
       "      <th>Variación7</th>\n",
       "      <th>Bono8</th>\n",
       "      <th>Variación8</th>\n",
       "      <th>Bono9</th>\n",
       "      <th>Variación9</th>\n",
       "      <th>Bono11</th>\n",
       "      <th>Variación11</th>\n",
       "      <th>Bono12</th>\n",
       "      <th>Variación12</th>\n",
       "      <th>Bono13</th>\n",
       "      <th>Variación13</th>\n",
       "    </tr>\n",
       "  </thead>\n",
       "  <tbody>\n",
       "    <tr>\n",
       "      <th>0</th>\n",
       "      <td>0.010</td>\n",
       "      <td>161.213422</td>\n",
       "      <td>0.612134</td>\n",
       "      <td>161.213422</td>\n",
       "      <td>0.612134</td>\n",
       "      <td>161.213422</td>\n",
       "      <td>0.612134</td>\n",
       "      <td>263.019639</td>\n",
       "      <td>1.407508</td>\n",
       "      <td>172.453173</td>\n",
       "      <td>1.737307</td>\n",
       "      <td>119.501526</td>\n",
       "      <td>0.414750</td>\n",
       "    </tr>\n",
       "    <tr>\n",
       "      <th>1</th>\n",
       "      <td>0.011</td>\n",
       "      <td>160.182928</td>\n",
       "      <td>0.601829</td>\n",
       "      <td>160.182928</td>\n",
       "      <td>0.601829</td>\n",
       "      <td>160.182928</td>\n",
       "      <td>0.601829</td>\n",
       "      <td>259.649448</td>\n",
       "      <td>1.376660</td>\n",
       "      <td>169.958747</td>\n",
       "      <td>1.697714</td>\n",
       "      <td>118.967240</td>\n",
       "      <td>0.408425</td>\n",
       "    </tr>\n",
       "    <tr>\n",
       "      <th>2</th>\n",
       "      <td>0.012</td>\n",
       "      <td>159.160861</td>\n",
       "      <td>0.591609</td>\n",
       "      <td>159.160861</td>\n",
       "      <td>0.591609</td>\n",
       "      <td>159.160861</td>\n",
       "      <td>0.591609</td>\n",
       "      <td>256.334623</td>\n",
       "      <td>1.346318</td>\n",
       "      <td>167.508133</td>\n",
       "      <td>1.658816</td>\n",
       "      <td>118.436126</td>\n",
       "      <td>0.402137</td>\n",
       "    </tr>\n",
       "    <tr>\n",
       "      <th>3</th>\n",
       "      <td>0.013</td>\n",
       "      <td>158.147143</td>\n",
       "      <td>0.581471</td>\n",
       "      <td>158.147143</td>\n",
       "      <td>0.581471</td>\n",
       "      <td>158.147143</td>\n",
       "      <td>0.581471</td>\n",
       "      <td>253.074169</td>\n",
       "      <td>1.316474</td>\n",
       "      <td>165.100509</td>\n",
       "      <td>1.620600</td>\n",
       "      <td>117.907634</td>\n",
       "      <td>0.395880</td>\n",
       "    </tr>\n",
       "    <tr>\n",
       "      <th>4</th>\n",
       "      <td>0.014</td>\n",
       "      <td>157.141694</td>\n",
       "      <td>0.571417</td>\n",
       "      <td>157.141694</td>\n",
       "      <td>0.571417</td>\n",
       "      <td>157.141694</td>\n",
       "      <td>0.571417</td>\n",
       "      <td>249.867109</td>\n",
       "      <td>1.287119</td>\n",
       "      <td>162.735069</td>\n",
       "      <td>1.583054</td>\n",
       "      <td>117.382275</td>\n",
       "      <td>0.389661</td>\n",
       "    </tr>\n",
       "    <tr>\n",
       "      <th>...</th>\n",
       "      <td>...</td>\n",
       "      <td>...</td>\n",
       "      <td>...</td>\n",
       "      <td>...</td>\n",
       "      <td>...</td>\n",
       "      <td>...</td>\n",
       "      <td>...</td>\n",
       "      <td>...</td>\n",
       "      <td>...</td>\n",
       "      <td>...</td>\n",
       "      <td>...</td>\n",
       "      <td>...</td>\n",
       "      <td>...</td>\n",
       "    </tr>\n",
       "    <tr>\n",
       "      <th>485</th>\n",
       "      <td>0.495</td>\n",
       "      <td>21.460659</td>\n",
       "      <td>-0.785393</td>\n",
       "      <td>21.460659</td>\n",
       "      <td>-0.785393</td>\n",
       "      <td>21.460659</td>\n",
       "      <td>-0.785393</td>\n",
       "      <td>20.207917</td>\n",
       "      <td>-0.815030</td>\n",
       "      <td>10.107654</td>\n",
       "      <td>-0.839564</td>\n",
       "      <td>20.654672</td>\n",
       "      <td>-0.755474</td>\n",
       "    </tr>\n",
       "    <tr>\n",
       "      <th>486</th>\n",
       "      <td>0.496</td>\n",
       "      <td>21.407970</td>\n",
       "      <td>-0.785920</td>\n",
       "      <td>21.407970</td>\n",
       "      <td>-0.785920</td>\n",
       "      <td>21.407970</td>\n",
       "      <td>-0.785920</td>\n",
       "      <td>20.167082</td>\n",
       "      <td>-0.815404</td>\n",
       "      <td>10.087169</td>\n",
       "      <td>-0.839889</td>\n",
       "      <td>20.597413</td>\n",
       "      <td>-0.756152</td>\n",
       "    </tr>\n",
       "    <tr>\n",
       "      <th>487</th>\n",
       "      <td>0.497</td>\n",
       "      <td>21.355512</td>\n",
       "      <td>-0.786445</td>\n",
       "      <td>21.355512</td>\n",
       "      <td>-0.786445</td>\n",
       "      <td>21.355512</td>\n",
       "      <td>-0.786445</td>\n",
       "      <td>20.126413</td>\n",
       "      <td>-0.815776</td>\n",
       "      <td>10.066768</td>\n",
       "      <td>-0.840213</td>\n",
       "      <td>20.540367</td>\n",
       "      <td>-0.756828</td>\n",
       "    </tr>\n",
       "    <tr>\n",
       "      <th>488</th>\n",
       "      <td>0.498</td>\n",
       "      <td>21.303284</td>\n",
       "      <td>-0.786967</td>\n",
       "      <td>21.303284</td>\n",
       "      <td>-0.786967</td>\n",
       "      <td>21.303284</td>\n",
       "      <td>-0.786967</td>\n",
       "      <td>20.085909</td>\n",
       "      <td>-0.816147</td>\n",
       "      <td>10.046450</td>\n",
       "      <td>-0.840535</td>\n",
       "      <td>20.483596</td>\n",
       "      <td>-0.757500</td>\n",
       "    </tr>\n",
       "    <tr>\n",
       "      <th>489</th>\n",
       "      <td>0.499</td>\n",
       "      <td>21.251285</td>\n",
       "      <td>-0.787487</td>\n",
       "      <td>21.251285</td>\n",
       "      <td>-0.787487</td>\n",
       "      <td>21.251285</td>\n",
       "      <td>-0.787487</td>\n",
       "      <td>20.045568</td>\n",
       "      <td>-0.816516</td>\n",
       "      <td>10.026216</td>\n",
       "      <td>-0.840856</td>\n",
       "      <td>20.427036</td>\n",
       "      <td>-0.758169</td>\n",
       "    </tr>\n",
       "  </tbody>\n",
       "</table>\n",
       "<p>490 rows × 13 columns</p>\n",
       "</div>"
      ],
      "text/plain": [
       "       YTM       Bono7  Variación7       Bono8  Variación8       Bono9  \\\n",
       "0    0.010  161.213422    0.612134  161.213422    0.612134  161.213422   \n",
       "1    0.011  160.182928    0.601829  160.182928    0.601829  160.182928   \n",
       "2    0.012  159.160861    0.591609  159.160861    0.591609  159.160861   \n",
       "3    0.013  158.147143    0.581471  158.147143    0.581471  158.147143   \n",
       "4    0.014  157.141694    0.571417  157.141694    0.571417  157.141694   \n",
       "..     ...         ...         ...         ...         ...         ...   \n",
       "485  0.495   21.460659   -0.785393   21.460659   -0.785393   21.460659   \n",
       "486  0.496   21.407970   -0.785920   21.407970   -0.785920   21.407970   \n",
       "487  0.497   21.355512   -0.786445   21.355512   -0.786445   21.355512   \n",
       "488  0.498   21.303284   -0.786967   21.303284   -0.786967   21.303284   \n",
       "489  0.499   21.251285   -0.787487   21.251285   -0.787487   21.251285   \n",
       "\n",
       "     Variación9      Bono11  Variación11      Bono12  Variación12      Bono13  \\\n",
       "0      0.612134  263.019639     1.407508  172.453173     1.737307  119.501526   \n",
       "1      0.601829  259.649448     1.376660  169.958747     1.697714  118.967240   \n",
       "2      0.591609  256.334623     1.346318  167.508133     1.658816  118.436126   \n",
       "3      0.581471  253.074169     1.316474  165.100509     1.620600  117.907634   \n",
       "4      0.571417  249.867109     1.287119  162.735069     1.583054  117.382275   \n",
       "..          ...         ...          ...         ...          ...         ...   \n",
       "485   -0.785393   20.207917    -0.815030   10.107654    -0.839564   20.654672   \n",
       "486   -0.785920   20.167082    -0.815404   10.087169    -0.839889   20.597413   \n",
       "487   -0.786445   20.126413    -0.815776   10.066768    -0.840213   20.540367   \n",
       "488   -0.786967   20.085909    -0.816147   10.046450    -0.840535   20.483596   \n",
       "489   -0.787487   20.045568    -0.816516   10.026216    -0.840856   20.427036   \n",
       "\n",
       "     Variación13  \n",
       "0       0.414750  \n",
       "1       0.408425  \n",
       "2       0.402137  \n",
       "3       0.395880  \n",
       "4       0.389661  \n",
       "..           ...  \n",
       "485    -0.755474  \n",
       "486    -0.756152  \n",
       "487    -0.756828  \n",
       "488    -0.757500  \n",
       "489    -0.758169  \n",
       "\n",
       "[490 rows x 13 columns]"
      ]
     },
     "execution_count": 96,
     "metadata": {},
     "output_type": "execute_result"
    }
   ],
   "source": [
    "# precio_bono(N,c,l,n,r,m)\n",
    "#N nominal\n",
    "#c tasa cupón\n",
    "#n madurez\n",
    "#m capitalización YTM\n",
    "#r YTM\n",
    "#l capitalización tasa c\n",
    "\n",
    "bonos_info = [\n",
    "    (100, 0.09, 1, 8, 1),\n",
    "    (100, 0.09, 1, 8, 1),\n",
    "    (100, 0.09, 1, 8, 1),\n",
    "    (100, 0.10, 6, 20, 6),\n",
    "    (100, 0.05, 6, 20, 6),\n",
    "    (100, 0.05, 6, 5, 2),\n",
    "]\n",
    "\n",
    "# Rango de YTM\n",
    "ytms = np.arange(0.01, 0.5, 0.001)\n",
    "\n",
    "# Llamada a la función\n",
    "BONO = precios_bonos_var(ytms, bonos_info)\n",
    "BONO.columns =[\"YTM\",\"Bono7\",\"Variación7\",\"Bono8\",\"Variación8\",\"Bono9\",\"Variación9\",\"Bono11\",\"Variación11\",\"Bono12\",\"Variación12\",\"Bono13\",\"Variación13\"]\n",
    "BONO"
   ]
  },
  {
   "cell_type": "code",
   "execution_count": 101,
   "id": "b6db2938-a410-4a80-a44d-857876a948d5",
   "metadata": {},
   "outputs": [
    {
     "data": {
      "text/plain": [
       "<matplotlib.legend.Legend at 0x13bb9b140>"
      ]
     },
     "execution_count": 101,
     "metadata": {},
     "output_type": "execute_result"
    },
    {
     "data": {
      "image/png": "[encoded data removed]",
      "text/plain": [
       "<Figure size 640x480 with 1 Axes>"
      ]
     },
     "metadata": {},
     "output_type": "display_data"
    }
   ],
   "source": [
    "import matplotlib.pyplot as plt\n",
    "plt.plot(BONO[\"YTM\"],BONO[\"Bono7\"])\n",
    "plt.plot(BONO[\"YTM\"],BONO[\"Bono8\"])\n",
    "plt.plot(BONO[\"YTM\"],BONO[\"Bono9\"])\n",
    "plt.plot(BONO[\"YTM\"],BONO[\"Bono11\"])\n",
    "plt.plot(BONO[\"YTM\"],BONO[\"Bono12\"])\n",
    "plt.plot(BONO[\"YTM\"],BONO[\"Bono13\"])\n",
    "\n",
    "plt.title(\"Cambio en precio de los bonos\")\n",
    "plt.xlabel(\"YTM\")\n",
    "plt.ylabel(\"Precio\")\n",
    "plt.legend([\"Bono 7\",\"Bono 8\",\"Bono 9\",\"Bono 11\",\"Bono 12\",\"Bono 13\"])"
   ]
  },
  {
   "cell_type": "code",
   "execution_count": 109,
   "id": "3a17cc81-c4a0-40f3-9e0d-2389426b2aa4",
   "metadata": {
    "tags": []
   },
   "outputs": [],
   "source": [
    "áreacuadrado(l):\n",
    "    a=l**2\n",
    "    return a"
   ]
  },
  {
   "cell_type": "code",
   "execution_count": 9,
   "id": "6f553bd0-f7bb-4915-ab84-553a5fd8c4ed",
   "metadata": {},
   "outputs": [
    {
     "name": "stdout",
     "output_type": "stream",
     "text": [
      "¿De qué figura quieres sacar su área:cuadrado, rectángulo,círculo, triángulo?\n"
     ]
    },
    {
     "name": "stdin",
     "output_type": "stream",
     "text": [
      " rombo\n"
     ]
    },
    {
     "name": "stdout",
     "output_type": "stream",
     "text": [
      "Esa figura no es válida\n"
     ]
    }
   ],
   "source": [
    "print(\"¿De qué figura quieres sacar su área:cuadrado, rectángulo,círculo, triángulo?\")\n",
    "i=input()\n",
    "\n",
    "if i==\"cuadrado\":\n",
    "    print(\"Dame el largo de un lado del cuadrado en cm\")\n",
    "    l=float(input())\n",
    "    a=l**(2)\n",
    "    print(f\"El área del cuadrado es de {a} en cm cuadrados\")\n",
    "    \n",
    "elif i==\"rectángulo\":\n",
    "    print(\"Dame el largo del rectángulo en cm\")\n",
    "    l=float(input())\n",
    "    print(\"Dame el ancho del rectángulo en cm\")\n",
    "    m=float(input())\n",
    "    a=l*m\n",
    "    print(f\"El área del rectángulo es de {a} en cm cuadrados\")\n",
    "    \n",
    "elif i==\"triangulo\":\n",
    "    print(\"Dame la base del triángulo en cm\")\n",
    "    l=float(input())\n",
    "    print(\"Dame altura del triángulo en cm\")\n",
    "    m=float(input())\n",
    "    a=(l*m)/2\n",
    "    print(f\"El área del triángulo es de {a} en cm cuadrados\")\n",
    "    \n",
    "elif i==\"círculo\":\n",
    "    print(\"Dame el radio del círculo en cm\")\n",
    "    l=float(input())\n",
    "    a=math.pi*(l**2)\n",
    "    print(f\"El área del círculo es de {a} en cm cuadrados\")\n",
    "    \n",
    "else: print(\"Esa figura no es válida\")"
   ]
  },
  {
   "cell_type": "code",
   "execution_count": 78,
   "id": "ac0b6f23-a15d-47bc-b56e-3cdee1f540ca",
   "metadata": {},
   "outputs": [
    {
     "name": "stdout",
     "output_type": "stream",
     "text": [
      "El precio del bono 1 es de 95.19755607993451\n",
      "La DM del bono 1 es de 5.908713413843804\n",
      "La convexidad del bono 1 es de 48.33907742232545\n",
      "\n",
      "Utilizando solo DM\n",
      "El cambio por 250 pb en pesos del bono 1 es $-14.062376914366421\n",
      "El cambio porcentual por 250 pb del bono 1 es -14.77178%\n",
      "El nuevo precio aproximado por 250 pb del bono 1 es $81.1351791655681\n",
      "\n",
      "Utilizando la DM y la convexidad\n",
      "El cambio por 250 pb en pesos del bono 1 es $-12.624326278815133\n",
      "El cambio porcentual por 250 pb del bono 1 es -13.26119%\n",
      "El nuevo precio aproximado por 250 pb del bono 1 es $82.57322980111938\n",
      "La diferencia de precios es de -12.624326278815133\n",
      "\n",
      "Utilizando solo DM\n",
      "El cambio por -70 pb en pesos del bono 1 es $3.9374655360225983\n",
      "El cambio porcentual por -70 pb del bono 1 es 4.13610%\n",
      "El nuevo precio aproximado por -70 pb del bono 1 es $99.13502161595711\n",
      "\n",
      "Utilizando la DM y la convexidad\n",
      "El cambio por -70 pb en pesos del bono 1 es $4.050208705849819\n",
      "El cambio porcentual por -70 pb del bono 1 es 4.25453%\n",
      "El nuevo precio aproximado por -70 pb del bono 1 es $99.24776478578434\n",
      "La diferencia de precios es de 4.050208705849826\n",
      "\n",
      "El precio del bono 2 es de 107.49329546296555\n",
      "La DM del bono 2 es de 2.434129052975975\n",
      "La convexidad del bono 2 es de 7.638333249748095\n",
      "\n",
      "Utilizando solo DM\n",
      "El cambio por 250 pb en pesos del bono 2 es $-6.541313837163376\n",
      "El cambio porcentual por 250 pb del bono 2 es -6.08532%\n",
      "El nuevo precio aproximado por 250 pb del bono 2 es $100.95198162580218\n",
      "\n",
      "Utilizando la DM y la convexidad\n",
      "El cambio por 250 pb en pesos del bono 2 es $-6.284729583144699\n",
      "El cambio porcentual por 250 pb del bono 2 es -5.84662%\n",
      "El nuevo precio aproximado por 250 pb del bono 2 es $101.20856587982085\n",
      "La diferencia de precios es de -6.284729583144696\n",
      "\n",
      "Utilizando solo DM\n",
      "El cambio por -70 pb en pesos del bono 2 es $1.831567874405745\n",
      "El cambio porcentual por -70 pb del bono 2 es 1.70389%\n",
      "El nuevo precio aproximado por -70 pb del bono 2 es $109.3248633373713\n",
      "\n",
      "Utilizando la DM y la convexidad\n",
      "El cambio por -70 pb en pesos del bono 2 es $1.8516840799208094\n",
      "El cambio porcentual por -70 pb del bono 2 es 1.72260%\n",
      "El nuevo precio aproximado por -70 pb del bono 2 es $109.34497954288636\n",
      "La diferencia de precios es de 1.8516840799208154\n",
      "\n",
      "El precio del bono 3 es de 100.0\n",
      "La DM del bono 3 es de 4.883882091424958\n",
      "La convexidad del bono 3 es de 32.944338063554056\n",
      "\n",
      "Utilizando solo DM\n",
      "El cambio por 250 pb en pesos del bono 3 es $-12.209705228562395\n",
      "El cambio porcentual por 250 pb del bono 3 es -12.20971%\n",
      "El nuevo precio aproximado por 250 pb del bono 3 es $87.7902947714376\n",
      "\n",
      "Utilizando la DM y la convexidad\n",
      "El cambio por 250 pb en pesos del bono 3 es $-11.18019466407633\n",
      "El cambio porcentual por 250 pb del bono 3 es -11.18019%\n",
      "El nuevo precio aproximado por 250 pb del bono 3 es $88.81980533592366\n",
      "La diferencia de precios es de -11.180194664076339\n",
      "\n",
      "Utilizando solo DM\n",
      "El cambio por -70 pb en pesos del bono 3 es $3.418717463997471\n",
      "El cambio porcentual por -70 pb del bono 3 es 3.41872%\n",
      "El nuevo precio aproximado por -70 pb del bono 3 es $103.41871746399747\n",
      "\n",
      "Utilizando la DM y la convexidad\n",
      "El cambio por -70 pb en pesos del bono 3 es $3.4994310922531784\n",
      "El cambio porcentual por -70 pb del bono 3 es 3.49943%\n",
      "El nuevo precio aproximado por -70 pb del bono 3 es $103.49943109225318\n",
      "La diferencia de precios es de 3.4994310922531753\n",
      "\n",
      "El precio del bono 4 es de 96.21672879116775\n",
      "La DM del bono 4 es de 5.245005597454251\n",
      "La convexidad del bono 4 es de 40.332006144329874\n",
      "\n",
      "Utilizando solo DM\n",
      "El cambio por 250 pb en pesos del bono 4 es $-12.616432026960313\n",
      "El cambio porcentual por 250 pb del bono 4 es -13.11251%\n",
      "El nuevo precio aproximado por 250 pb del bono 4 es $83.60029676420744\n",
      "\n",
      "Utilizando la DM y la convexidad\n",
      "El cambio por 250 pb en pesos del bono 4 es $-11.403740246712594\n",
      "El cambio porcentual por 250 pb del bono 4 es -11.85214%\n",
      "El nuevo precio aproximado por 250 pb del bono 4 es $84.81298854445517\n",
      "La diferencia de precios es de -11.403740246712587\n",
      "\n",
      "Utilizando solo DM\n",
      "El cambio por -70 pb en pesos del bono 4 es $3.532600967548887\n",
      "El cambio porcentual por -70 pb del bono 4 es 3.67150%\n",
      "El nuevo precio aproximado por -70 pb del bono 4 es $99.74932975871664\n",
      "\n",
      "Utilizando la DM y la convexidad\n",
      "El cambio por -70 pb en pesos del bono 4 es $3.627676003120308\n",
      "El cambio porcentual por -70 pb del bono 4 es 3.77032%\n",
      "El nuevo precio aproximado por -70 pb del bono 4 es $99.84440479428807\n",
      "La diferencia de precios es de 3.627676003120314\n"
     ]
    }
   ],
   "source": [
    "#N nominal\n",
    "#c tasa cupón\n",
    "#m capitalización YTM\n",
    "#n madurez\n",
    "#r YTM\n",
    "#l capitalización tasa cupón\n",
    "# h cambios en los pbs (es un vector)\n",
    "\n",
    "#DM_Conv(N,c,m,n,r,l,h, bono_num=7)\n",
    "h = [250, -70]\n",
    "bono1 = DM_Conv(100, 0.11, 2, 10, 0.12, 4, h, 1)\n",
    "print()\n",
    "bono2 = DM_Conv(100, 0.14, 2, 3, 0.11, 2, h, 2)\n",
    "print()\n",
    "bono3 = DM_Conv(100, 0.13, 2, 8, 0.13, 2, h, 3)\n",
    "print()\n",
    "bono4 = DM_Conv(100, 0.14, 2, 10, 0.15, 4, h, 4)"
   ]
  },
  {
   "cell_type": "markdown",
   "id": "015ba0f8-7d32-4b70-a761-8db229c10047",
   "metadata": {},
   "source": [
    "### Duración modificada y convexidad conjunta de los bonos\n"
   ]
  },
  {
   "cell_type": "code",
   "execution_count": 72,
   "id": "c271ca16-6179-4e57-a7aa-6ad3354f7257",
   "metadata": {},
   "outputs": [
    {
     "name": "stdout",
     "output_type": "stream",
     "text": [
      "¿Cuántos bonos pondrás en el portafolio?\n"
     ]
    },
    {
     "name": "stdin",
     "output_type": "stream",
     "text": [
      " 4\n"
     ]
    },
    {
     "name": "stdout",
     "output_type": "stream",
     "text": [
      "Dame el número del primer bono a utilizar\n"
     ]
    },
    {
     "name": "stdin",
     "output_type": "stream",
     "text": [
      " 12\n"
     ]
    },
    {
     "name": "stdout",
     "output_type": "stream",
     "text": [
      "Dame el precio del primer bono\n"
     ]
    },
    {
     "name": "stdin",
     "output_type": "stream",
     "text": [
      " 95.19755607993451\n"
     ]
    },
    {
     "name": "stdout",
     "output_type": "stream",
     "text": [
      "Dame la DM del primer bono\n"
     ]
    },
    {
     "name": "stdin",
     "output_type": "stream",
     "text": [
      " 5.908713413843804\n"
     ]
    },
    {
     "name": "stdout",
     "output_type": "stream",
     "text": [
      "Dame la convexidad del primer bono\n"
     ]
    },
    {
     "name": "stdin",
     "output_type": "stream",
     "text": [
      " 48.33907742232545\n"
     ]
    },
    {
     "name": "stdout",
     "output_type": "stream",
     "text": [
      "Dame el número del segundo bono a utilizar\n"
     ]
    },
    {
     "name": "stdin",
     "output_type": "stream",
     "text": [
      " 15\n"
     ]
    },
    {
     "name": "stdout",
     "output_type": "stream",
     "text": [
      "Dame el precio del segundo bono\n"
     ]
    },
    {
     "name": "stdin",
     "output_type": "stream",
     "text": [
      " 107.49329546296555\n"
     ]
    },
    {
     "name": "stdout",
     "output_type": "stream",
     "text": [
      "Dame la DM del segundo bono\n"
     ]
    },
    {
     "name": "stdin",
     "output_type": "stream",
     "text": [
      " 2.434129052975975\n"
     ]
    },
    {
     "name": "stdout",
     "output_type": "stream",
     "text": [
      "Dame la convexidad del segundo bono\n"
     ]
    },
    {
     "name": "stdin",
     "output_type": "stream",
     "text": [
      " 7.638333249748095\n"
     ]
    },
    {
     "name": "stdout",
     "output_type": "stream",
     "text": [
      "Dame el número del tercer bono a utilizar\n"
     ]
    },
    {
     "name": "stdin",
     "output_type": "stream",
     "text": [
      " 16\n"
     ]
    },
    {
     "name": "stdout",
     "output_type": "stream",
     "text": [
      "Dame el precio del tercer bono\n"
     ]
    },
    {
     "name": "stdin",
     "output_type": "stream",
     "text": [
      " 100.0\n"
     ]
    },
    {
     "name": "stdout",
     "output_type": "stream",
     "text": [
      "Dame la DM del tercer bono\n"
     ]
    },
    {
     "name": "stdin",
     "output_type": "stream",
     "text": [
      " 4.883882091424958\n"
     ]
    },
    {
     "name": "stdout",
     "output_type": "stream",
     "text": [
      "Dame la convexidad del tercer bono\n"
     ]
    },
    {
     "name": "stdin",
     "output_type": "stream",
     "text": [
      " 32.944338063554056\n"
     ]
    },
    {
     "name": "stdout",
     "output_type": "stream",
     "text": [
      "Dame el número del cuarto bono a utilizar\n"
     ]
    },
    {
     "name": "stdin",
     "output_type": "stream",
     "text": [
      " 18\n"
     ]
    },
    {
     "name": "stdout",
     "output_type": "stream",
     "text": [
      "Dame el precio del cuarto bono\n"
     ]
    },
    {
     "name": "stdin",
     "output_type": "stream",
     "text": [
      " 96.21672879116775\n"
     ]
    },
    {
     "name": "stdout",
     "output_type": "stream",
     "text": [
      "Dame la DM del cuarto bono\n"
     ]
    },
    {
     "name": "stdin",
     "output_type": "stream",
     "text": [
      " 5.245005597454251\n"
     ]
    },
    {
     "name": "stdout",
     "output_type": "stream",
     "text": [
      "Dame la convexidad del cuarto bono\n"
     ]
    },
    {
     "name": "stdin",
     "output_type": "stream",
     "text": [
      " 40.332006144329874\n"
     ]
    },
    {
     "name": "stdout",
     "output_type": "stream",
     "text": [
      "\n",
      "El precio del portafolio es 6086.671223144716\n",
      "La DM conjunta de los bonos es de 4.530024806012049\n",
      "La convexidad conjunta de los bonos es de 31.232042782130936\n"
     ]
    }
   ],
   "source": [
    "#Duración modificada y convexidad conjunta de los bonos\n",
    "\n",
    "print(\"¿Cuántos bonos pondrás en el portafolio?\")\n",
    "a=float(input())\n",
    "\n",
    "if a==2:\n",
    "    print(\"Dame el número del primer bono a utilizar\")\n",
    "    n1=float(input())\n",
    "    print(\"Dame el precio del primer bono\")\n",
    "    P1=float(input())\n",
    "    print(\"Dame la DM del primer bono\")\n",
    "    DM1=float(input())\n",
    "    print(\"Dame la convexidad del primer bono\")\n",
    "    Conv1=float(input())\n",
    "\n",
    "    print(\"Dame el número del segundo bono a utilizar\")\n",
    "    n2=float(input())\n",
    "    print(\"Dame el precio del segundo bono\")\n",
    "    P2=float(input())\n",
    "    print(\"Dame la DM del segundo bono\")\n",
    "    DM2=float(input())\n",
    "    print(\"Dame la convexidad del segundo bono\")\n",
    "    Conv2=float(input())\n",
    "    P=n1*P1+n2*P2\n",
    "    c1=n1*P1/P\n",
    "    c2=n2*P2/P\n",
    "    DMP=c1*DM1+c2*DM2\n",
    "    ConvP=c1*Conv1+c2*Conv2\n",
    "    print()\n",
    "    print(f\"El precio del portafolio es {P}\")\n",
    "    print(f\"La DM conjunta de los bonos es de {DMP}\")\n",
    "    print(f\"La convexidad conjunta de los bonos es de {ConvP}\")\n",
    "    \n",
    "elif a==3:\n",
    "\n",
    "    print(\"Dame el número del primer bono a utilizar\")\n",
    "    n1=float(input())\n",
    "    print(\"Dame el precio del primer bono\")\n",
    "    P1=float(input())\n",
    "    print(\"Dame la DM del primer bono\")\n",
    "    DM1=float(input())\n",
    "    print(\"Dame la convexidad del primer bono\")\n",
    "    Conv1=float(input())\n",
    "\n",
    "    print(\"Dame el número del segundo bono a utilizar\")\n",
    "    n2=float(input())\n",
    "    print(\"Dame el precio del segundo bono\")\n",
    "    P2=float(input())\n",
    "    print(\"Dame la DM del segundo bono\")\n",
    "    DM2=float(input())\n",
    "    print(\"Dame la convexidad del segundo bono\")\n",
    "    Conv2=float(input())\n",
    "    \n",
    "    print(\"Dame el número del tercer bono a utilizar\")\n",
    "    n3=float(input())\n",
    "    print(\"Dame el precio del tercer bono\")\n",
    "    P3=float(input())\n",
    "    print(\"Dame la DM del tercer bono\")\n",
    "    DM3=float(input())\n",
    "    print(\"Dame la convexidad del tercer bono\")\n",
    "    Conv3=float(input())\n",
    "\n",
    "    \n",
    "    P=n1*P1+n2*P2+n3*P3\n",
    "    c1=n1*P1/P\n",
    "    c2=n2*P2/P\n",
    "    c3=n3*P3/P\n",
    "    DMP=c1*DM1+c2*DM2+c3*DM3\n",
    "    ConvP=c1*Conv1+c2*Conv2+c3*Conv3\n",
    "    print()\n",
    "    print(f\"El precio del portafolio es {P}\")\n",
    "    print(f\"La DM conjunta de los bonos es de {DMP}\")\n",
    "    print(f\"La convexidad conjunta de los bonos es de {ConvP}\")\n",
    "    \n",
    "elif a==4:\n",
    "\n",
    "\n",
    "    print(\"Dame el número del primer bono a utilizar\")\n",
    "    n1=float(input())\n",
    "    print(\"Dame el precio del primer bono\")\n",
    "    P1=float(input())\n",
    "    print(\"Dame la DM del primer bono\")\n",
    "    DM1=float(input())\n",
    "    print(\"Dame la convexidad del primer bono\")\n",
    "    Conv1=float(input())\n",
    "\n",
    "    print(\"Dame el número del segundo bono a utilizar\")\n",
    "    n2=float(input())\n",
    "    print(\"Dame el precio del segundo bono\")\n",
    "    P2=float(input())\n",
    "    print(\"Dame la DM del segundo bono\")\n",
    "    DM2=float(input())\n",
    "    print(\"Dame la convexidad del segundo bono\")\n",
    "    Conv2=float(input())\n",
    "    \n",
    "    print(\"Dame el número del tercer bono a utilizar\")\n",
    "    n3=float(input())\n",
    "    print(\"Dame el precio del tercer bono\")\n",
    "    P3=float(input())\n",
    "    print(\"Dame la DM del tercer bono\")\n",
    "    DM3=float(input())\n",
    "    print(\"Dame la convexidad del tercer bono\")\n",
    "    Conv3=float(input())\n",
    "\n",
    "    print(\"Dame el número del cuarto bono a utilizar\")\n",
    "    n4=float(input())\n",
    "    print(\"Dame el precio del cuarto bono\")\n",
    "    P4=float(input())\n",
    "    print(\"Dame la DM del cuarto bono\")\n",
    "    DM4=float(input())\n",
    "    print(\"Dame la convexidad del cuarto bono\")\n",
    "    Conv4=float(input())\n",
    "\n",
    "    P=n1*P1+n2*P2+n3*P3+n4*P4\n",
    "    c1=n1*P1/P\n",
    "    c2=n2*P2/P\n",
    "    c3=n3*P3/P\n",
    "    c4=n4*P4/P\n",
    "    DMP=c1*DM1+c2*DM2+c3*DM3+c4*DM4\n",
    "    ConvP=c1*Conv1+c2*Conv2+c3*Conv3+c4*Conv4\n",
    "    print()\n",
    "    print(f\"El precio del portafolio es {P}\")\n",
    "    print(f\"La DM conjunta de los bonos es de {DMP}\")\n",
    "    print(f\"La convexidad conjunta de los bonos es de {ConvP}\")"
   ]
  },
  {
   "attachments": {},
   "cell_type": "markdown",
   "id": "8596c16a-1924-4c8f-95f7-2223e9cd392e",
   "metadata": {
    "jp-MarkdownHeadingCollapsed": true
   },
   "source": [
    "#### Ejercicio 5\n",
    "Elige el bono más volátil, di la razón y compara con los otros 3.\n",
    "\n",
    "En los bonos hay más variación por la tasa y por el tiempo de madurez, a menor tasa cupón y mayor madurez más volátil es el bono.\n",
    "El bono 1 es el más volátil, ya que su tasa cupón es la más baja de entre los 4 y su madurez es la más alta, al igual que el 4, pero el 4 tiene una tasa cupón más alta. Además, entre mayor DM hay más cambio en el precio y esto afirma que el bono 1 es el más volátil, pues es el que su DM es mayor. Si observamos los bonos 2 y 3 su madurez es menor que las del bono 1 y 4, su tasa cupón es más alta y de igual forma su DM es menor que la de los bonos 1 y 4. Y podemos decir que el bono 2 será el menos volátil pues es el de menor madurez y mayor tasa cupón."
   ]
  },
  {
   "cell_type": "markdown",
   "id": "fca43e56-a8b0-4693-a07a-3be51e9588e2",
   "metadata": {
    "jp-MarkdownHeadingCollapsed": true
   },
   "source": [
    "### Inmunización con un bono\n"
   ]
  },
  {
   "cell_type": "code",
   "execution_count": 74,
   "id": "30ca8651-9603-4743-940b-6eee991c4a7e",
   "metadata": {},
   "outputs": [
    {
     "name": "stdout",
     "output_type": "stream",
     "text": [
      "¿Cuántos instrumentos o portafolios vas a ocupar para la inmunización?\n"
     ]
    },
    {
     "name": "stdin",
     "output_type": "stream",
     "text": [
      " 1\n"
     ]
    },
    {
     "name": "stdout",
     "output_type": "stream",
     "text": [
      "Dame el precio del portafolio a inmunizar\n"
     ]
    },
    {
     "name": "stdin",
     "output_type": "stream",
     "text": [
      " 95.19755607993451\n"
     ]
    },
    {
     "name": "stdout",
     "output_type": "stream",
     "text": [
      "Dame la DM del portafolio a inmunizar\n"
     ]
    },
    {
     "name": "stdin",
     "output_type": "stream",
     "text": [
      " 5.908713413843804\n"
     ]
    },
    {
     "name": "stdout",
     "output_type": "stream",
     "text": [
      "Dame la Convexidad del portafolio a inmunizar\n"
     ]
    },
    {
     "name": "stdin",
     "output_type": "stream",
     "text": [
      " 48.33907742232545\n"
     ]
    },
    {
     "name": "stdout",
     "output_type": "stream",
     "text": [
      "Dame el cambio de pb\n"
     ]
    },
    {
     "name": "stdin",
     "output_type": "stream",
     "text": [
      " 10\n"
     ]
    },
    {
     "name": "stdout",
     "output_type": "stream",
     "text": [
      "Dame el precio del intrumento \n"
     ]
    },
    {
     "name": "stdin",
     "output_type": "stream",
     "text": [
      " 107.49329546296555\n"
     ]
    },
    {
     "name": "stdout",
     "output_type": "stream",
     "text": [
      "Dame la DM del instrumento\n"
     ]
    },
    {
     "name": "stdin",
     "output_type": "stream",
     "text": [
      " 2.434129052975975\n"
     ]
    },
    {
     "name": "stdout",
     "output_type": "stream",
     "text": [
      "\n",
      "Si tenemos un cambio de 10.0pb perderíamos -0.5624950765746569\n",
      "\n",
      "El número del instrumento que necesitas para cubrir el cambio es de -2.149778662884724\n",
      "\n",
      "La ganancia es de -0.26165255348653504\n",
      "Si utilizamos -2.149778662884724 del intrumento al multiplicarla por la ganancia nos da 0.562495076574657\n"
     ]
    }
   ],
   "source": [
    "print(\"¿Cuántos instrumentos o portafolios vas a ocupar para la inmunización?\")\n",
    "i=float(input())\n",
    "print(\"Dame el precio del portafolio a inmunizar\")\n",
    "P=float(input())\n",
    "print(\"Dame la DM del portafolio a inmunizar\")\n",
    "DMp=float(input())\n",
    "print(\"Dame la Convexidad del portafolio a inmunizar\")\n",
    "Convp=float(input())\n",
    "print(\"Dame el cambio de pb\")\n",
    "h=float(input())\n",
    "\n",
    "G=-P*(h/10000)*DMp+((h/10000)**2/2)*P*Convp\n",
    "\n",
    "\n",
    "if      i==1: \n",
    "        print(\"Dame el precio del intrumento \")\n",
    "        Q1=float(input())\n",
    "        print(\"Dame la DM del instrumento\")\n",
    "        DMq1=float(input())\n",
    "        phi_1=(-DMp*P)/(DMq1*Q1)\n",
    "        print()\n",
    "        print(f\"Si tenemos un cambio de {h}pb perderíamos {-P*(h/10000)*DMp}\")\n",
    "        print()\n",
    "        print(f\"El número del instrumento que necesitas para cubrir el cambio es de {phi_1}\")\n",
    "        print()\n",
    "        print(f\"La ganancia es de {-h/10000*Q1*DMq1}\")\n",
    "        print(f\"Si utilizamos {phi_1} del intrumento al multiplicarla por la ganancia nos da {phi_1*(-h/10000*Q1*DMq1)}\")\n",
    "        \n",
    "elif    i==2: \n",
    "        print(\"Dame el precio del primer intrumento \")\n",
    "        Q1=float(input())\n",
    "        print(\"Dame la DM del primer instrumento\")\n",
    "        DMq1=float(input())\n",
    "        print(\"Dame la Convexidad del primer instrumento\")\n",
    "        Convq1=float(input())\n",
    "        print(\"Dame el precio del segundo intrumento \")\n",
    "        Q2=float(input())\n",
    "        print(\"Dame la DM del segundo instrumento\")\n",
    "        DMq2=float(input())\n",
    "        print(\"Dame la Convexidad del segundo instrumento\")\n",
    "        Convq2=float(input())\n",
    "        print(\"Dame el precio nuevo con los pb del primer instrumento\")\n",
    "        l1=float(input())\n",
    "        L1=l1-Q1\n",
    "        print(\"Dame el precio nuevo con los pb del segundo instrumento\")\n",
    "        l2=float(input())\n",
    "        L2=l2-Q2\n",
    "        \n",
    "        A=np.linalg.inv([[DMq1*Q1,DMq2*Q2],[Convq1*Q1,Convq2*Q2],])\n",
    "        B=[[-DMp*P],[-Convp*P]]\n",
    "        phi_s=np.dot(A,B)\n",
    "        print()\n",
    "        print(f\"Si tenemos un cambio de {h}pb perderíamos {G}\")\n",
    "        print()\n",
    "        print(f\"Número del primer instrumento que necesitas para cubrir el cambio es de {phi_s[0,0]}\")\n",
    "        print(f\"Número del segundo instrumento que necesitas para cubrir el cambio es de {phi_s[1,0]}\")\n",
    "        print()\n",
    "        print(f\"Si utilizamos {phi_s[0,0]} del primer intrumento al multiplicarla por la diferencia de precios nos da {phi_s[0,0]*L1}\")\n",
    "        print(f\"si utilizamos {phi_s[1,0]} del segundo intrumento al multiplicarla por la diferencia de precios nos da {phi_s[1,0]*L2}\")\n",
    "        print()\n",
    "        print(f\"Sumando las cantidades anteriores nos queda {phi_s[1,0]*L2+phi_s[0,0]*L1}\")\n",
    "        \n",
    "        \n",
    "elif    i==3:\n",
    "        print(\"Dame el precio del primer intrumento \")\n",
    "        Q1=float(input())\n",
    "        print(\"Dame la DM del primer instrumento\")\n",
    "        DMq1=float(input())\n",
    "        print(\"Dame la Convexidad del primer instrumento\")\n",
    "        Convq1=float(input())\n",
    "        print(\"Dame el precio del segundo intrumento \")\n",
    "        Q2=float(input())\n",
    "        print(\"Dame la DM del segundo instrumento\")\n",
    "        DMq2=float(input())\n",
    "        print(\"Dame la Convexidad del segundo instrumento\")\n",
    "        Convq2=float(input())\n",
    "        print(\"Dame el precio del tercer intrumento \")\n",
    "        Q3=float(input())\n",
    "        print(\"Dame la DM del tercer instrumento\")\n",
    "        DMq3=float(input())\n",
    "        print(\"Dame la Convexidad del tercer instrumento\")\n",
    "        Convq3=float(input())\n",
    "        print(\"Dame el precio nuevo con los pb del primer instrumento\")\n",
    "        l1=float(input())\n",
    "        L1=l1-Q1\n",
    "        print(\"Dame el precio nuevo con los pb del segundo instrumento\")\n",
    "        l2=float(input())\n",
    "        L2=l2-Q2\n",
    "        print(\"Dame el precio nuevo con los pb del tercer instrumento\")\n",
    "        l3=float(input())\n",
    "        L3=l3-Q3\n",
    "        A=np.linalg.inv([[DMq1*Q1,DMq2*Q2,DMq3*Q3],[Convq1*Q1,Convq2*Q2,Convq3*Q3],[Q1,Q2,Q3]])\n",
    "        B=[[-DMp*P],[-Convp*P],[-P]]\n",
    "        phi_s=np.dot(A,B)\n",
    "        print()\n",
    "        print(f\"Si tenemos un cambio de {h}pb perderíamos {G}\")\n",
    "        print()\n",
    "        print(f\"Número del primer instrumento que necesitas para cubrir el cambio es de {phi_s[0,0]}\")\n",
    "        print(f\"Número del segundo instrumento que necesitas para cubrir el cambio es de {phi_s[1,0]}\")\n",
    "        print(f\"Número del tercer instrumento que necesitas para cubrir el cambio es de {phi_s[2,0]}\")\n",
    "        print()\n",
    "        print(f\"Si utilizamos {phi_s[0,0]} del primer intrumento al multiplicarla por la diferencia de precios nos da {phi_s[0,0]*L1}\")\n",
    "        print(f\"Si utilizamos {phi_s[1,0]} del segundo intrumento al multiplicarla por la diferencia de precios nos da {phi_s[1,0]*L2}\")\n",
    "        print(f\"Si utilizamos {phi_s[2,0]} del tercer intrumento al multiplicarla por la diferencia de precios nos da {phi_s[2,0]*L3}\")\n",
    "        print()\n",
    "        print(f\"Sumando las cantidades anteriores nos queda {phi_s[1,0]*L2+phi_s[0,0]*L1+phi_s[2,0]*L3}\")\n",
    "else:\n",
    "    print(\"Revisa que hayas escrito bien\")\n",
    "     "
   ]
  },
  {
   "cell_type": "code",
   "execution_count": 76,
   "id": "616cd81e-9acb-4eed-a3ad-44f74ee35fb1",
   "metadata": {},
   "outputs": [
    {
     "data": {
      "text/plain": [
       "0.562495076574657"
      ]
     },
     "execution_count": 76,
     "metadata": {},
     "output_type": "execute_result"
    }
   ],
   "source": [
    "-2.149778662884724*(-0.26165255348653504)"
   ]
  },
  {
   "cell_type": "markdown",
   "id": "6bac2817-abc8-4c69-bc0f-35fa897443c5",
   "metadata": {
    "jp-MarkdownHeadingCollapsed": true
   },
   "source": [
    "### Imnunización con 3 bonos"
   ]
  },
  {
   "cell_type": "code",
   "execution_count": 79,
   "id": "6fbd3a75-3fb8-4080-88ea-84b7210ff5cf",
   "metadata": {},
   "outputs": [
    {
     "name": "stdout",
     "output_type": "stream",
     "text": [
      "¿Cuántos instrumentos o portafolios vas a ocupar para la inmunización?\n"
     ]
    },
    {
     "name": "stdin",
     "output_type": "stream",
     "text": [
      " 3\n"
     ]
    },
    {
     "name": "stdout",
     "output_type": "stream",
     "text": [
      "Dame el precio del portafolio a inmunizar\n"
     ]
    },
    {
     "name": "stdin",
     "output_type": "stream",
     "text": [
      " 95.19755607993451\n"
     ]
    },
    {
     "name": "stdout",
     "output_type": "stream",
     "text": [
      "Dame la DM del portafolio a inmunizar\n"
     ]
    },
    {
     "name": "stdin",
     "output_type": "stream",
     "text": [
      " 5.908713413843804\n"
     ]
    },
    {
     "name": "stdout",
     "output_type": "stream",
     "text": [
      "Dame la Convexidad del portafolio a inmunizar\n"
     ]
    },
    {
     "name": "stdin",
     "output_type": "stream",
     "text": [
      " 48.33907742232545\n"
     ]
    },
    {
     "name": "stdout",
     "output_type": "stream",
     "text": [
      "Dame el cambio de pb\n"
     ]
    },
    {
     "name": "stdin",
     "output_type": "stream",
     "text": [
      " -70\n"
     ]
    },
    {
     "name": "stdout",
     "output_type": "stream",
     "text": [
      "Dame el precio del primer intrumento \n"
     ]
    },
    {
     "name": "stdin",
     "output_type": "stream",
     "text": [
      " 107.49329546296555\n"
     ]
    },
    {
     "name": "stdout",
     "output_type": "stream",
     "text": [
      "Dame la DM del primer instrumento\n"
     ]
    },
    {
     "name": "stdin",
     "output_type": "stream",
     "text": [
      " 2.434129052975975\n"
     ]
    },
    {
     "name": "stdout",
     "output_type": "stream",
     "text": [
      "Dame la Convexidad del primer instrumento\n"
     ]
    },
    {
     "name": "stdin",
     "output_type": "stream",
     "text": [
      " 7.638333249748095\n"
     ]
    },
    {
     "name": "stdout",
     "output_type": "stream",
     "text": [
      "Dame el precio del segundo intrumento \n"
     ]
    },
    {
     "name": "stdin",
     "output_type": "stream",
     "text": [
      " 100.0\n"
     ]
    },
    {
     "name": "stdout",
     "output_type": "stream",
     "text": [
      "Dame la DM del segundo instrumento\n"
     ]
    },
    {
     "name": "stdin",
     "output_type": "stream",
     "text": [
      " 4.883882091424958\n"
     ]
    },
    {
     "name": "stdout",
     "output_type": "stream",
     "text": [
      "Dame la Convexidad del segundo instrumento\n"
     ]
    },
    {
     "name": "stdin",
     "output_type": "stream",
     "text": [
      " 32.944338063554056\n"
     ]
    },
    {
     "name": "stdout",
     "output_type": "stream",
     "text": [
      "Dame el precio del tercer intrumento \n"
     ]
    },
    {
     "name": "stdin",
     "output_type": "stream",
     "text": [
      " 96.21672879116775\n"
     ]
    },
    {
     "name": "stdout",
     "output_type": "stream",
     "text": [
      "Dame la DM del tercer instrumento\n"
     ]
    },
    {
     "name": "stdin",
     "output_type": "stream",
     "text": [
      " 5.245005597454251\n"
     ]
    },
    {
     "name": "stdout",
     "output_type": "stream",
     "text": [
      "Dame la Convexidad del tercer instrumento\n"
     ]
    },
    {
     "name": "stdin",
     "output_type": "stream",
     "text": [
      " 40.332006144329874\n"
     ]
    },
    {
     "name": "stdout",
     "output_type": "stream",
     "text": [
      "Dame el precio nuevo con los pb del primer instrumento\n"
     ]
    },
    {
     "name": "stdin",
     "output_type": "stream",
     "text": [
      " 109.34497954288636\n"
     ]
    },
    {
     "name": "stdout",
     "output_type": "stream",
     "text": [
      "Dame el precio nuevo con los pb del segundo instrumento\n"
     ]
    },
    {
     "name": "stdin",
     "output_type": "stream",
     "text": [
      " 103.49943109225318\n"
     ]
    },
    {
     "name": "stdout",
     "output_type": "stream",
     "text": [
      "Dame el precio nuevo con los pb del tercer instrumento\n"
     ]
    },
    {
     "name": "stdin",
     "output_type": "stream",
     "text": [
      " 99.84440479428807\n"
     ]
    },
    {
     "name": "stdout",
     "output_type": "stream",
     "text": [
      "\n",
      "Si tenemos un cambio de -70.0pb perderíamos 4.050208705849819\n",
      "\n",
      "Número del primer instrumento que necesitas para cubrir el cambio es de 0.19885323810259425\n",
      "Número del segundo instrumento que necesitas para cubrir el cambio es de 0.08583711624922508\n",
      "Número del tercer instrumento que necesitas para cubrir el cambio es de -1.300778556436165\n",
      "\n",
      "Si utilizamos 0.19885323810259425 del primer intrumento al multiplicarla por la diferencia de precios nos da 0.3682133752352771\n",
      "Si utilizamos 0.08583711624922508 del segundo intrumento al multiplicarla por la diferencia de precios nos da 0.30038107347188847\n",
      "Si utilizamos -1.300778556436165 del tercer intrumento al multiplicarla por la diferencia de precios nos da -4.718803154556959\n",
      "\n",
      "Sumando las cantidades anteriores nos queda -4.050208705849793\n"
     ]
    }
   ],
   "source": [
    "print(\"¿Cuántos instrumentos o portafolios vas a ocupar para la inmunización?\")\n",
    "i=float(input())\n",
    "print(\"Dame el precio del portafolio a inmunizar\")\n",
    "P=float(input())\n",
    "print(\"Dame la DM del portafolio a inmunizar\")\n",
    "DMp=float(input())\n",
    "print(\"Dame la Convexidad del portafolio a inmunizar\")\n",
    "Convp=float(input())\n",
    "print(\"Dame el cambio de pb\")\n",
    "h=float(input())\n",
    "\n",
    "G=-P*(h/10000)*DMp+((h/10000)**2/2)*P*Convp\n",
    "\n",
    "\n",
    "if      i==1: \n",
    "        print(\"Dame el precio del intrumento \")\n",
    "        Q1=float(input())\n",
    "        print(\"Dame la DM del instrumento\")\n",
    "        DMq1=float(input())\n",
    "        phi_1=(-DMp*P)/(DMq1*Q1)\n",
    "        print()\n",
    "        print(f\"Si tenemos un cambio de {h}pb perderíamos {-P*(h/10000)*DMp}\")\n",
    "        print()\n",
    "        print(f\"El número del instrumento que necesitas para cubrir el cambio es de {phi_1}\")\n",
    "        print()\n",
    "        print(f\"La ganancia es de {-h/10000*Q1*DMq1}\")\n",
    "        print(f\"Si utilizamos {phi_1} del intrumento al multiplicarla por la ganancia nos da {phi_1*(-h/10000*Q1*DMq1)}\")\n",
    "        \n",
    "elif    i==2: \n",
    "        print(\"Dame el precio del primer intrumento \")\n",
    "        Q1=float(input())\n",
    "        print(\"Dame la DM del primer instrumento\")\n",
    "        DMq1=float(input())\n",
    "        print(\"Dame la Convexidad del primer instrumento\")\n",
    "        Convq1=float(input())\n",
    "        print(\"Dame el precio del segundo intrumento \")\n",
    "        Q2=float(input())\n",
    "        print(\"Dame la DM del segundo instrumento\")\n",
    "        DMq2=float(input())\n",
    "        print(\"Dame la Convexidad del segundo instrumento\")\n",
    "        Convq2=float(input())\n",
    "        print(\"Dame el precio nuevo con los pb del primer instrumento\")\n",
    "        l1=float(input())\n",
    "        L1=l1-Q1\n",
    "        print(\"Dame el precio nuevo con los pb del segundo instrumento\")\n",
    "        l2=float(input())\n",
    "        L2=l2-Q2\n",
    "        \n",
    "        A=np.linalg.inv([[DMq1*Q1,DMq2*Q2],[Convq1*Q1,Convq2*Q2],])\n",
    "        B=[[-DMp*P],[-Convp*P]]\n",
    "        phi_s=np.dot(A,B)\n",
    "        print()\n",
    "        print(f\"Si tenemos un cambio de {h}pb perderíamos {G}\")\n",
    "        print()\n",
    "        print(f\"Número del primer instrumento que necesitas para cubrir el cambio es de {phi_s[0,0]}\")\n",
    "        print(f\"Número del segundo instrumento que necesitas para cubrir el cambio es de {phi_s[1,0]}\")\n",
    "        print()\n",
    "        print(f\"Si utilizamos {phi_s[0,0]} del primer intrumento al multiplicarla por la diferencia de precios nos da {phi_s[0,0]*L1}\")\n",
    "        print(f\"si utilizamos {phi_s[1,0]} del segundo intrumento al multiplicarla por la diferencia de precios nos da {phi_s[1,0]*L2}\")\n",
    "        print()\n",
    "        print(f\"Sumando las cantidades anteriores nos queda {phi_s[1,0]*L2+phi_s[0,0]*L1}\")\n",
    "        \n",
    "        \n",
    "elif    i==3:\n",
    "        print(\"Dame el precio del primer intrumento \")\n",
    "        Q1=float(input())\n",
    "        print(\"Dame la DM del primer instrumento\")\n",
    "        DMq1=float(input())\n",
    "        print(\"Dame la Convexidad del primer instrumento\")\n",
    "        Convq1=float(input())\n",
    "        print(\"Dame el precio del segundo intrumento \")\n",
    "        Q2=float(input())\n",
    "        print(\"Dame la DM del segundo instrumento\")\n",
    "        DMq2=float(input())\n",
    "        print(\"Dame la Convexidad del segundo instrumento\")\n",
    "        Convq2=float(input())\n",
    "        print(\"Dame el precio del tercer intrumento \")\n",
    "        Q3=float(input())\n",
    "        print(\"Dame la DM del tercer instrumento\")\n",
    "        DMq3=float(input())\n",
    "        print(\"Dame la Convexidad del tercer instrumento\")\n",
    "        Convq3=float(input())\n",
    "        print(\"Dame el precio nuevo con los pb del primer instrumento\")\n",
    "        l1=float(input())\n",
    "        L1=l1-Q1\n",
    "        print(\"Dame el precio nuevo con los pb del segundo instrumento\")\n",
    "        l2=float(input())\n",
    "        L2=l2-Q2\n",
    "        print(\"Dame el precio nuevo con los pb del tercer instrumento\")\n",
    "        l3=float(input())\n",
    "        L3=l3-Q3\n",
    "        A=np.linalg.inv([[DMq1*Q1,DMq2*Q2,DMq3*Q3],[Convq1*Q1,Convq2*Q2,Convq3*Q3],[Q1,Q2,Q3]])\n",
    "        B=[[-DMp*P],[-Convp*P],[-P]]\n",
    "        phi_s=np.dot(A,B)\n",
    "        print()\n",
    "        print(f\"Si tenemos un cambio de {h}pb perderíamos {G}\")\n",
    "        print()\n",
    "        print(f\"Número del primer instrumento que necesitas para cubrir el cambio es de {phi_s[0,0]}\")\n",
    "        print(f\"Número del segundo instrumento que necesitas para cubrir el cambio es de {phi_s[1,0]}\")\n",
    "        print(f\"Número del tercer instrumento que necesitas para cubrir el cambio es de {phi_s[2,0]}\")\n",
    "        print()\n",
    "        print(f\"Si utilizamos {phi_s[0,0]} del primer intrumento al multiplicarla por la diferencia de precios nos da {phi_s[0,0]*L1}\")\n",
    "        print(f\"Si utilizamos {phi_s[1,0]} del segundo intrumento al multiplicarla por la diferencia de precios nos da {phi_s[1,0]*L2}\")\n",
    "        print(f\"Si utilizamos {phi_s[2,0]} del tercer intrumento al multiplicarla por la diferencia de precios nos da {phi_s[2,0]*L3}\")\n",
    "        print()\n",
    "        print(f\"Sumando las cantidades anteriores nos queda {phi_s[1,0]*L2+phi_s[0,0]*L1+phi_s[2,0]*L3}\")\n",
    "else:\n",
    "    print(\"Revisa que hayas escrito bien\")\n",
    "     "
   ]
  },
  {
   "cell_type": "code",
   "execution_count": 82,
   "id": "6fa263cd-b3a8-4eb1-b290-9e0885439a06",
   "metadata": {},
   "outputs": [
    {
     "data": {
      "text/plain": [
       "-4.050208705849793"
      ]
     },
     "execution_count": 82,
     "metadata": {},
     "output_type": "execute_result"
    }
   ],
   "source": [
    "0.3682133752352771+0.30038107347188847-4.718803154556959\n"
   ]
  },
  {
   "cell_type": "code",
   "execution_count": 87,
   "id": "012042e7-5c7b-4ed8-97e4-c9b9f8bd1a35",
   "metadata": {},
   "outputs": [
    {
     "data": {
      "text/plain": [
       "0.3682133752352771"
      ]
     },
     "execution_count": 87,
     "metadata": {},
     "output_type": "execute_result"
    }
   ],
   "source": [
    "# Bono 2\n",
    "# (Precio nuevo con cambio en pb - Precio original)*phi\n",
    "(109.34497954288636-107.49329546296555)*0.19885323810259425"
   ]
  },
  {
   "cell_type": "code",
   "execution_count": 85,
   "id": "2b753160-9a4e-41b7-85e3-0093e81fd306",
   "metadata": {},
   "outputs": [
    {
     "data": {
      "text/plain": [
       "0.30038107347188847"
      ]
     },
     "execution_count": 85,
     "metadata": {},
     "output_type": "execute_result"
    }
   ],
   "source": [
    "# Bono 3\n",
    "# (Precio nuevo con cambio en pb - Precio original)*phi\n",
    "(103.49943109225318-100.0)*0.08583711624922508"
   ]
  },
  {
   "cell_type": "code",
   "execution_count": 88,
   "id": "91067fe0-8ea0-4bf3-933b-5836f17b3871",
   "metadata": {},
   "outputs": [
    {
     "data": {
      "text/plain": [
       "182.04323149378095"
      ]
     },
     "execution_count": 88,
     "metadata": {},
     "output_type": "execute_result"
    }
   ],
   "source": [
    "# Tiempo de un CETE\n",
    "#P precio\n",
    "#N nominal\n",
    "#r YTM anual\n",
    "#t_cete(P,N,r):\n",
    "\n",
    "t_cete(9.464,10,0.112)"
   ]
  },
  {
   "cell_type": "code",
   "execution_count": null,
   "id": "499b08c2-defa-47a8-9093-049ca99c3ee2",
   "metadata": {},
   "outputs": [],
   "source": []
  }
 ],
 "metadata": {
  "kernelspec": {
   "display_name": "Python 3 (ipykernel)",
   "language": "python",
   "name": "python3"
  },
  "language_info": {
   "codemirror_mode": {
    "name": "ipython",
    "version": 3
   },
   "file_extension": ".py",
   "mimetype": "text/x-python",
   "name": "python",
   "nbconvert_exporter": "python",
   "pygments_lexer": "ipython3",
   "version": "3.12.7"
  }
 },
 "nbformat": 4,
 "nbformat_minor": 5
}
